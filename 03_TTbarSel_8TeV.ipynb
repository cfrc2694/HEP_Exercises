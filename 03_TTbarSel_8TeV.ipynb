{
  "cells": [
    {
      "cell_type": "markdown",
      "metadata": {
        "id": "view-in-github",
        "colab_type": "text"
      },
      "source": [
        "<a href=\"https://colab.research.google.com/github/cfrc2694/HEP_Exercises/blob/main/03_TTbarSel_8TeV.ipynb\" target=\"_parent\"><img src=\"https://colab.research.google.com/assets/colab-badge.svg\" alt=\"Open In Colab\"/></a>"
      ]
    },
    {
      "cell_type": "markdown",
      "metadata": {
        "id": "1PQL4M3r73VY"
      },
      "source": [
        "# An introductional notebook to HEP analysis in C++\n",
        "\n",
        "<p>In this notebook you can find an easy set of commands that show some basic computing techniques commonly used in High Energy Physics (HEP) analyzes.</p>\n",
        "\n",
        "<p>It also shows how to create an histogram, fill it and draw it. Moreover it is an introduction to [ROOT](https://root.cern.ch/) too. The final output is a plot with the number of leptons.</p>\n",
        "\n",
        "Based on ATLAS opendata notebooks (http://opendata.atlas.cern/release/2020/documentation/notebooks/intro.html)\n"
      ]
    },
    {
      "cell_type": "markdown",
      "metadata": {
        "id": "m9fD4kkH73Vb"
      },
      "source": [
        "The library used is [ROOT](https://root.cern.ch/), a scientific data analysis software framework that provides a large set of functionalities needed to deal with big data processing, statistical analysis, visualisation and storage."
      ]
    },
    {
      "cell_type": "markdown",
      "metadata": {
        "id": "-HJQ7Alq73Vc"
      },
      "source": [
        "<p>At first we have to include several helpers that will support our analysis:</p>"
      ]
    },
    {
      "cell_type": "code",
      "execution_count": 1,
      "metadata": {
        "colab": {
          "base_uri": "https://localhost:8080/"
        },
        "id": "W2DkXosz73Vc",
        "outputId": "781b2fae-53bc-4bf5-fb4e-5757269c5c79"
      },
      "outputs": [
        {
          "output_type": "stream",
          "name": "stdout",
          "text": [
            "libxext-dev is already the newest version (2:1.3.3-1).\n",
            "libxft-dev is already the newest version (2.3.2-1).\n",
            "libxpm-dev is already the newest version (1:3.5.12-1).\n",
            "subversion is already the newest version (1.9.7-4ubuntu1).\n",
            "binutils is already the newest version (2.30-21ubuntu1~18.04.7).\n",
            "cmake is already the newest version (3.10.2-1ubuntu2.18.04.2).\n",
            "dpkg-dev is already the newest version (1.19.0.5ubuntu2.3).\n",
            "g++ is already the newest version (4:7.4.0-1ubuntu2.3).\n",
            "gcc is already the newest version (4:7.4.0-1ubuntu2.3).\n",
            "gfortran is already the newest version (4:7.4.0-1ubuntu2.3).\n",
            "git is already the newest version (1:2.17.1-1ubuntu0.9).\n",
            "libx11-dev is already the newest version (2:1.6.4-3ubuntu0.4).\n",
            "python2.7 is already the newest version (2.7.17-1~18.04ubuntu1.6).\n",
            "tar is already the newest version (1.29b-2ubuntu0.2).\n",
            "0 upgraded, 0 newly installed, 0 to remove and 32 not upgraded.\n",
            "Downloading...\n",
            "From: https://drive.google.com/uc?id=1bWgcTAMG7IoyQASWwrrOQrGe4haUAo9t\n",
            "To: /content/root_for_colab.tar.gz\n",
            "100% 1.57G/1.57G [00:30<00:00, 51.5MB/s]\n",
            "Welcome to JupyROOT 6.25/01\n"
          ]
        }
      ],
      "source": [
        "import os\n",
        "\n",
        "try:\n",
        "  import google.colab\n",
        "  IN_COLAB = True\n",
        "except:\n",
        "  IN_COLAB = False\n",
        "\n",
        "if (IN_COLAB):\n",
        "  !apt -qq install git dpkg-dev cmake g++ gcc binutils libx11-dev libxpm-dev libxft-dev libxext-dev tar gfortran subversion python2.7\n",
        "  if (os.path.isdir(\"/content/root\")):\n",
        "    pass\n",
        "  else:\n",
        "    !gdown https://drive.google.com/uc?id=1bWgcTAMG7IoyQASWwrrOQrGe4haUAo9t\n",
        "    !cd /; tar xzf /content/root_for_colab.tar.gz\n",
        "    !rm -rf root_for_colab.tar.gz*\n",
        "  import sys\n",
        "  sys.path.append(\"/content/root/build/\")\n",
        "  sys.path.append(\"/content/root/build/bin/\")\n",
        "  sys.path.append(\"/content/root/build/include/\")\n",
        "  sys.path.append(\"/content/root/build/lib/\")\n",
        "\n",
        "import ROOT\n",
        "from ROOT import *"
      ]
    },
    {
      "cell_type": "markdown",
      "metadata": {
        "id": "TQ5ynQI473Vc"
      },
      "source": [
        "Next we have to open the data that we want to analyze. As described above the data is stored in a _*.root_ file. This is a root file containing tracks and calorimeter clusters"
      ]
    },
    {
      "cell_type": "code",
      "execution_count": 2,
      "metadata": {
        "colab": {
          "base_uri": "https://localhost:8080/"
        },
        "id": "pc-w4dra73Vd",
        "outputId": "48c64b7f-74f5-43aa-d40f-af85bb7c9592"
      },
      "outputs": [
        {
          "output_type": "stream",
          "name": "stdout",
          "text": [
            "--2022-01-17 19:24:38--  http://csandova.web.cern.ch/csandova/HEP-Ex-Course/Code/TTbarSel/Data_8TeV.root\n",
            "Resolving csandova.web.cern.ch (csandova.web.cern.ch)... 188.185.124.106, 2001:1458:d00:4a::100:f0\n",
            "Connecting to csandova.web.cern.ch (csandova.web.cern.ch)|188.185.124.106|:80... connected.\n",
            "HTTP request sent, awaiting response... 200 OK\n",
            "Length: 1366039841 (1.3G)\n",
            "Saving to: ‘Data_8TeV.root’\n",
            "\n",
            "Data_8TeV.root      100%[===================>]   1.27G  1.87MB/s    in 8m 27s  \n",
            "\n",
            "2022-01-17 19:33:05 (2.57 MB/s) - ‘Data_8TeV.root’ saved [1366039841/1366039841]\n",
            "\n"
          ]
        }
      ],
      "source": [
        "file_name='Data_8TeV.root'\n",
        "#f = ROOT.TFile.Open(\"http://csandova.web.cern.ch/csandova/HEP-Ex-Course/Code/TTbarSel/Data_8TeV.root\")\n",
        "if (os.path.isfile(file_name)):\n",
        "    pass\n",
        "else :\n",
        "    !wget http://csandova.web.cern.ch/csandova/HEP-Ex-Course/Code/TTbarSel/Data_8TeV.root -O Data_8TeV.root\n",
        "f = TFile.Open(file_name)"
      ]
    },
    {
      "cell_type": "markdown",
      "metadata": {
        "id": "0SjzglpY73Vd"
      },
      "source": [
        "The next step is to define a tree named _tree_ to get the data out of the _*.root_ file. The tree in this root file is called \"JetRecoTree\". We will then print the contents of the tree to find the names of the variables. "
      ]
    },
    {
      "cell_type": "code",
      "execution_count": 3,
      "metadata": {
        "colab": {
          "base_uri": "https://localhost:8080/"
        },
        "id": "CBnLZr6i73Vd",
        "scrolled": false,
        "outputId": "24a05320-db6e-427e-8e75-931e69979c53"
      },
      "outputs": [
        {
          "output_type": "stream",
          "name": "stdout",
          "text": [
            "******************************************************************************\n",
            "*Tree    :mini      : 4-vectors + variables required for scaling factors     *\n",
            "*Entries : 14945674 : Total =      3737586466 bytes  File  Size = 1366006484 *\n",
            "*        :          : Tree compression factor =   2.74                       *\n",
            "******************************************************************************\n",
            "*Br    0 :runNumber : runNumber/I                                            *\n",
            "*Entries : 14945674 : Total  Size=   59789737 bytes  File Size  =     297928 *\n",
            "*Baskets :       70 : Basket Size=    1224192 bytes  Compression= 200.68     *\n",
            "*............................................................................*\n",
            "*Br    1 :eventNumber : eventNumber/I                                        *\n",
            "*Entries : 14945674 : Total  Size=   59789885 bytes  File Size  =   44412272 *\n",
            "*Baskets :       70 : Basket Size=    1224192 bytes  Compression=   1.35     *\n",
            "*............................................................................*\n",
            "*Br    2 :channelNumber : channelNumber/I                                    *\n",
            "*Entries : 14945674 : Total  Size=   59790033 bytes  File Size  =     298208 *\n",
            "*Baskets :       70 : Basket Size=    1224192 bytes  Compression= 200.49     *\n",
            "*............................................................................*\n",
            "*Br    3 :mcWeight  : mcWeight/F                                             *\n",
            "*Entries : 14945674 : Total  Size=   59789663 bytes  File Size  =     268231 *\n",
            "*Baskets :       70 : Basket Size=    1224192 bytes  Compression= 222.90     *\n",
            "*............................................................................*\n",
            "*Br    4 :pvxp_n    : pvxp_n/I                                               *\n",
            "*Entries : 14945674 : Total  Size=   59789515 bytes  File Size  =   13103705 *\n",
            "*Baskets :       70 : Basket Size=    1224192 bytes  Compression=   4.56     *\n",
            "*............................................................................*\n",
            "*Br    5 :vxp_z     : vxp_z/F                                                *\n",
            "*Entries : 14945674 : Total  Size=   59789441 bytes  File Size  =   55540897 *\n",
            "*Baskets :       70 : Basket Size=    1224192 bytes  Compression=   1.08     *\n",
            "*............................................................................*\n",
            "*Br    6 :scaleFactor_PILEUP : scaleFactor_PILEUP/F                          *\n",
            "*Entries : 14945674 : Total  Size=   59790403 bytes  File Size  =     268931 *\n",
            "*Baskets :       70 : Basket Size=    1224192 bytes  Compression= 222.32     *\n",
            "*............................................................................*\n",
            "*Br    7 :scaleFactor_ELE : scaleFactor_ELE/F                                *\n",
            "*Entries : 14945674 : Total  Size=   59790181 bytes  File Size  =     268721 *\n",
            "*Baskets :       70 : Basket Size=    1224192 bytes  Compression= 222.49     *\n",
            "*............................................................................*\n",
            "*Br    8 :scaleFactor_MUON : scaleFactor_MUON/F                              *\n",
            "*Entries : 14945674 : Total  Size=   59790255 bytes  File Size  =     268791 *\n",
            "*Baskets :       70 : Basket Size=    1224192 bytes  Compression= 222.43     *\n",
            "*............................................................................*\n",
            "*Br    9 :scaleFactor_BTAG : scaleFactor_BTAG/F                              *\n",
            "*Entries : 14945674 : Total  Size=   59790255 bytes  File Size  =     268791 *\n",
            "*Baskets :       70 : Basket Size=    1224192 bytes  Compression= 222.43     *\n",
            "*............................................................................*\n",
            "*Br   10 :scaleFactor_TRIGGER : scaleFactor_TRIGGER/F                        *\n",
            "*Entries : 14945674 : Total  Size=   59790477 bytes  File Size  =     269001 *\n",
            "*Baskets :       70 : Basket Size=    1224192 bytes  Compression= 222.26     *\n",
            "*............................................................................*\n",
            "*Br   11 :scaleFactor_JVFSF : scaleFactor_JVFSF/F                            *\n",
            "*Entries : 14945674 : Total  Size=   59790329 bytes  File Size  =     268861 *\n",
            "*Baskets :       70 : Basket Size=    1224192 bytes  Compression= 222.38     *\n",
            "*............................................................................*\n",
            "*Br   12 :scaleFactor_ZVERTEX : scaleFactor_ZVERTEX/F                        *\n",
            "*Entries : 14945674 : Total  Size=   59790477 bytes  File Size  =     269001 *\n",
            "*Baskets :       70 : Basket Size=    1224192 bytes  Compression= 222.26     *\n",
            "*............................................................................*\n",
            "*Br   13 :trigE     : trigE/O                                                *\n",
            "*Entries : 14945674 : Total  Size=   14958761 bytes  File Size  =      79720 *\n",
            "*Baskets :      139 : Basket Size=     159744 bytes  Compression= 187.60     *\n",
            "*............................................................................*\n",
            "*Br   14 :trigM     : trigM/O                                                *\n",
            "*Entries : 14945674 : Total  Size=   14958761 bytes  File Size  =     104652 *\n",
            "*Baskets :      139 : Basket Size=     159744 bytes  Compression= 142.91     *\n",
            "*............................................................................*\n",
            "*Br   15 :passGRL   : passGRL/O                                              *\n",
            "*Entries : 14945674 : Total  Size=   14959047 bytes  File Size  =      80772 *\n",
            "*Baskets :      139 : Basket Size=     159744 bytes  Compression= 185.16     *\n",
            "*............................................................................*\n",
            "*Br   16 :hasGoodVertex : hasGoodVertex/O                                    *\n",
            "*Entries : 14945674 : Total  Size=   14959905 bytes  File Size  =     829254 *\n",
            "*Baskets :      139 : Basket Size=     159744 bytes  Compression=  18.04     *\n",
            "*............................................................................*\n",
            "*Br   17 :lep_n     : lep_n/i                                                *\n",
            "*Entries : 14945674 : Total  Size=   59789441 bytes  File Size  =    2971296 *\n",
            "*Baskets :       70 : Basket Size=    1224192 bytes  Compression=  20.12     *\n",
            "*............................................................................*\n",
            "*Br   18 :lep_truthMatched : lep_truthMatched[lep_n]/O                       *\n",
            "*Entries : 14945674 : Total  Size=   75857338 bytes  File Size  =   20999814 *\n",
            "*Baskets :      139 : Basket Size=    1224192 bytes  Compression=   3.61     *\n",
            "*............................................................................*\n",
            "*Br   19 :lep_trigMatched : lep_trigMatched[lep_n]/s                         *\n",
            "*Entries : 14945674 : Total  Size=   91915976 bytes  File Size  =   24049899 *\n",
            "*Baskets :      139 : Basket Size=    1224192 bytes  Compression=   3.82     *\n",
            "*............................................................................*\n",
            "*Br   20 :lep_pt    : lep_pt[lep_n]/F                                        *\n",
            "*Entries : 14945674 : Total  Size=  124039220 bytes  File Size  =   74690269 *\n",
            "*Baskets :      208 : Basket Size=    1224192 bytes  Compression=   1.66     *\n",
            "*............................................................................*\n",
            "*Br   21 :lep_eta   : lep_eta[lep_n]/F                                       *\n",
            "*Entries : 14945674 : Total  Size=  124039432 bytes  File Size  =   77563362 *\n",
            "*Baskets :      208 : Basket Size=    1224192 bytes  Compression=   1.60     *\n",
            "*............................................................................*\n",
            "*Br   22 :lep_phi   : lep_phi[lep_n]/F                                       *\n",
            "*Entries : 14945674 : Total  Size=  124039432 bytes  File Size  =   77598012 *\n",
            "*Baskets :      208 : Basket Size=    1224192 bytes  Compression=   1.60     *\n",
            "*............................................................................*\n",
            "*Br   23 :lep_E     : lep_E[lep_n]/F                                         *\n",
            "*Entries : 14945674 : Total  Size=  124039008 bytes  File Size  =   75496519 *\n",
            "*Baskets :      208 : Basket Size=    1224192 bytes  Compression=   1.64     *\n",
            "*............................................................................*\n",
            "*Br   24 :lep_z0    : lep_z0[lep_n]/F                                        *\n",
            "*Entries : 14945674 : Total  Size=  124039220 bytes  File Size  =   78351134 *\n",
            "*Baskets :      208 : Basket Size=    1224192 bytes  Compression=   1.58     *\n",
            "*............................................................................*\n",
            "*Br   25 :lep_charge : lep_charge[lep_n]/F                                   *\n",
            "*Entries : 14945674 : Total  Size=  124040068 bytes  File Size  =   25355214 *\n",
            "*Baskets :      208 : Basket Size=    1224192 bytes  Compression=   4.89     *\n",
            "*............................................................................*\n",
            "*Br   26 :lep_type  : lep_type[lep_n]/i                                      *\n",
            "*Entries : 14945674 : Total  Size=  124039637 bytes  File Size  =   18822849 *\n",
            "*Baskets :      208 : Basket Size=    1224192 bytes  Compression=   6.59     *\n",
            "*............................................................................*\n",
            "*Br   27 :lep_flag  : lep_flag[lep_n]/i                                      *\n",
            "*Entries : 14945674 : Total  Size=  124039637 bytes  File Size  =   31625869 *\n",
            "*Baskets :      208 : Basket Size=    1224192 bytes  Compression=   3.92     *\n",
            "*............................................................................*\n",
            "*Br   28 :lep_ptcone30 : lep_ptcone30[lep_n]/F                               *\n",
            "*Entries : 14945674 : Total  Size=  124040492 bytes  File Size  =   45473662 *\n",
            "*Baskets :      208 : Basket Size=    1224192 bytes  Compression=   2.73     *\n",
            "*............................................................................*\n",
            "*Br   29 :lep_etcone20 : lep_etcone20[lep_n]/F                               *\n",
            "*Entries : 14945674 : Total  Size=  124040492 bytes  File Size  =   75793466 *\n",
            "*Baskets :      208 : Basket Size=    1224192 bytes  Compression=   1.64     *\n",
            "*............................................................................*\n",
            "*Br   30 :lep_trackd0pvunbiased : lep_trackd0pvunbiased[lep_n]/F             *\n",
            "*Entries : 14945674 : Total  Size=  124042400 bytes  File Size  =   78337113 *\n",
            "*Baskets :      208 : Basket Size=    1224192 bytes  Compression=   1.58     *\n",
            "*............................................................................*\n",
            "*Br   31 :lep_tracksigd0pvunbiased : lep_tracksigd0pvunbiased[lep_n]/F       *\n",
            "*Entries : 14945674 : Total  Size=  124043036 bytes  File Size  =   74120311 *\n",
            "*Baskets :      208 : Basket Size=    1224192 bytes  Compression=   1.67     *\n",
            "*............................................................................*\n",
            "*Br   32 :met_et    : met_et/F                                               *\n",
            "*Entries : 14945674 : Total  Size=   59789515 bytes  File Size  =   53578213 *\n",
            "*Baskets :       70 : Basket Size=    1224192 bytes  Compression=   1.12     *\n",
            "*............................................................................*\n",
            "*Br   33 :met_phi   : met_phi/F                                              *\n",
            "*Entries : 14945674 : Total  Size=   59789589 bytes  File Size  =   55415952 *\n",
            "*Baskets :       70 : Basket Size=    1224192 bytes  Compression=   1.08     *\n",
            "*............................................................................*\n",
            "*Br   34 :jet_n     : jet_n/i                                                *\n",
            "*Entries : 14945674 : Total  Size=   59789441 bytes  File Size  =    7425059 *\n",
            "*Baskets :       70 : Basket Size=    1224192 bytes  Compression=   8.05     *\n",
            "*............................................................................*\n",
            "*Br   35 :alljet_n  : alljet_n/i                                             *\n",
            "*Entries : 14945674 : Total  Size=   59789663 bytes  File Size  =    7943976 *\n",
            "*Baskets :       70 : Basket Size=    1224192 bytes  Compression=   7.53     *\n",
            "*............................................................................*\n",
            "*Br   36 :jet_pt    : jet_pt[alljet_n]/F                                     *\n",
            "*Entries : 14945674 : Total  Size=   94527479 bytes  File Size  =   43503461 *\n",
            "*Baskets :      139 : Basket Size=    1224192 bytes  Compression=   2.17     *\n",
            "*............................................................................*\n",
            "*Br   37 :jet_eta   : jet_eta[alljet_n]/F                                    *\n",
            "*Entries : 14945674 : Total  Size=   94527622 bytes  File Size  =   44933234 *\n",
            "*Baskets :      139 : Basket Size=    1224192 bytes  Compression=   2.10     *\n",
            "*............................................................................*\n",
            "*Br   38 :jet_phi   : jet_phi[alljet_n]/F                                    *\n",
            "*Entries : 14945674 : Total  Size=   94527622 bytes  File Size  =   44929226 *\n",
            "*Baskets :      139 : Basket Size=    1224192 bytes  Compression=   2.10     *\n",
            "*............................................................................*\n",
            "*Br   39 :jet_E     : jet_E[alljet_n]/F                                      *\n",
            "*Entries : 14945674 : Total  Size=   94527336 bytes  File Size  =   43801321 *\n",
            "*Baskets :      139 : Basket Size=    1224192 bytes  Compression=   2.16     *\n",
            "*............................................................................*\n",
            "*Br   40 :jet_m     : jet_m[alljet_n]/F                                      *\n",
            "*Entries : 14945674 : Total  Size=   94527336 bytes  File Size  =   43460012 *\n",
            "*Baskets :      139 : Basket Size=    1224192 bytes  Compression=   2.17     *\n",
            "*............................................................................*\n",
            "*Br   41 :jet_jvf   : jet_jvf[alljet_n]/F                                    *\n",
            "*Entries : 14945674 : Total  Size=   94527622 bytes  File Size  =   39392706 *\n",
            "*Baskets :      139 : Basket Size=    1224192 bytes  Compression=   2.40     *\n",
            "*............................................................................*\n",
            "*Br   42 :jet_trueflav : jet_trueflav[alljet_n]/I                            *\n",
            "*Entries : 14945674 : Total  Size=   94528330 bytes  File Size  =   12915685 *\n",
            "*Baskets :      139 : Basket Size=    1224192 bytes  Compression=   7.32     *\n",
            "*............................................................................*\n",
            "*Br   43 :jet_truthMatched : jet_truthMatched[alljet_n]/I                    *\n",
            "*Entries : 14945674 : Total  Size=   94528902 bytes  File Size  =   12893729 *\n",
            "*Baskets :      139 : Basket Size=    1224192 bytes  Compression=   7.33     *\n",
            "*............................................................................*\n",
            "*Br   44 :jet_SV0   : jet_SV0[alljet_n]/F                                    *\n",
            "*Entries : 14945674 : Total  Size=   94527622 bytes  File Size  =   16306468 *\n",
            "*Baskets :      139 : Basket Size=    1224192 bytes  Compression=   5.80     *\n",
            "*............................................................................*\n",
            "*Br   45 :jet_MV1   : jet_MV1[alljet_n]/F                                    *\n",
            "*Entries : 14945674 : Total  Size=   94527622 bytes  File Size  =   41303912 *\n",
            "*Baskets :      139 : Basket Size=    1224192 bytes  Compression=   2.29     *\n",
            "*............................................................................*\n"
          ]
        }
      ],
      "source": [
        "tree = f.Get(\"mini\")\n",
        "tree.Print()"
      ]
    },
    {
      "cell_type": "markdown",
      "metadata": {
        "id": "9ZOU7ixd73Ve"
      },
      "source": [
        "Create Canvas"
      ]
    },
    {
      "cell_type": "code",
      "execution_count": 4,
      "metadata": {
        "id": "0yPJOmMl73Ve"
      },
      "outputs": [],
      "source": [
        "canvas = TCanvas(\"Canvas\",\"\",800,600);"
      ]
    },
    {
      "cell_type": "markdown",
      "metadata": {
        "id": "NcBW48_m73Vf"
      },
      "source": [
        "Create histograms: Leading jet pT and all jets pT "
      ]
    },
    {
      "cell_type": "code",
      "execution_count": 5,
      "metadata": {
        "id": "xtBkdKsr73Vf"
      },
      "outputs": [],
      "source": [
        "cutflow = TH1F(\"Cutflow\",\"Cutflow; Cut; Events\",10,0,10);\n",
        "hist_njets = TH1F(\"Number of jets\",\"n-jets; Jet multiplicity; Events\",10,0,10);"
      ]
    },
    {
      "cell_type": "markdown",
      "metadata": {
        "id": "vYLQoUtm73Vf"
      },
      "source": [
        "Loop and fill histograms"
      ]
    },
    {
      "cell_type": "code",
      "execution_count": 6,
      "metadata": {
        "colab": {
          "base_uri": "https://localhost:8080/"
        },
        "id": "4qT76YX8oza5",
        "outputId": "c485e283-a4d3-43de-ff3a-d987608c03d1"
      },
      "outputs": [
        {
          "output_type": "stream",
          "name": "stdout",
          "text": [
            "Requirement already satisfied: etaprogress in /usr/local/lib/python3.7/dist-packages (1.1.1)\n"
          ]
        }
      ],
      "source": [
        "!pip install etaprogress\n",
        "import sys\n",
        "import time\n",
        "from etaprogress.progress import ProgressBar\n",
        "bar = ProgressBar(tree.GetEntries(), max_width=100)"
      ]
    },
    {
      "cell_type": "code",
      "execution_count": 7,
      "metadata": {
        "colab": {
          "base_uri": "https://localhost:8080/"
        },
        "id": "6h7FaqCO73Vf",
        "scrolled": false,
        "outputId": "4b832c7e-d639-4e43-b43d-27c7a38e42a1"
      },
      "outputs": [
        {
          "output_type": "stream",
          "name": "stdout",
          "text": [
            "  0% (       0/14945674) [                                         ] eta --:-- /\n",
            " 10% ( 1494568/14945674) [####                                     ] eta 41:46 -\n",
            " 20% ( 2989135/14945674) [########                                 ] eta 36:32 \\\n",
            " 30% ( 4483703/14945674) [############                             ] eta 39:46 |\n",
            " 40% ( 5978270/14945674) [################                         ] eta 33:12 /\n",
            " 50% ( 7472837/14945674) [####################                     ] eta 23:07 -\n",
            " 60% ( 8967405/14945674) [########################                 ] eta 18:31 \\\n",
            " 70% (10461972/14945674) [############################             ] eta 16:42 |\n",
            " 80% (11956540/14945674) [################################         ] eta 11:15 /\n",
            " 90% (13451107/14945674) [####################################     ] eta 05:40 -\n",
            "100% (14945674/14945674) [#########################################] eta 00:01 \\\n",
            "Done!\n",
            "All events:14945674\n",
            "Cut1:14656440\n",
            "Cut2:14656440\n",
            "Cut3:11543234\n",
            "Cut4:61901\n",
            "Cut5:61669\n",
            "Cut6:10802\n",
            "Cut7:8555\n",
            "Cut8:7180\n"
          ]
        }
      ],
      "source": [
        "printEachPercent=10\n",
        "\n",
        "cut1 = 0\n",
        "cut2 = 0\n",
        "cut3 = 0\n",
        "cut4 = 0\n",
        "cut5 = 0\n",
        "cut6 = 0\n",
        "cut7 = 0\n",
        "cut8 = 0\n",
        "\n",
        "bar.numerator = 0\n",
        "print(bar)\n",
        "nEvents =tree.GetEntries()\n",
        "nSplits=int(100/printEachPercent)\n",
        "\n",
        "for event in tree:\n",
        "    bar.numerator+=1\n",
        "    i=bar.numerator\n",
        "    if int(nSplits*i/nEvents)!=int(nSplits*(i-1)/nEvents):\n",
        "        print(bar)\n",
        "    cutflow.Fill(0)\n",
        "    \n",
        "    #First cut: Good vertex\n",
        "    good_vtx = tree.hasGoodVertex\n",
        "    ##Discard all events without a good vertex\n",
        "    if not good_vtx: continue\n",
        "    cut1+=1\n",
        "    cutflow.Fill(1)\n",
        "    \n",
        "    #Second cut: Trigger\n",
        "    e_trig = tree.trigE\n",
        "    mu_trig = tree.trigM\n",
        "    \n",
        "    ##Discard all events without a e_trig and a mu_trig\n",
        "    if ((not e_trig) and (not mu_trig)) : continue\n",
        "    cut2+=1\n",
        "    cutflow.Fill(2)\n",
        "    \n",
        "    ##Preselection of good leptons                                                                                \n",
        "    n_mu=0\n",
        "    n_el=0\n",
        "    n_lep=0\n",
        "    index_lep = []\n",
        "    lep_pt = tree.lep_pt\n",
        "    lep_phi = tree.lep_phi\n",
        "    lep_eta = tree.lep_eta\n",
        "    lep_E = tree.lep_E\n",
        "    lep_ptcone30=tree.lep_ptcone30\n",
        "    lep_etcone20=tree.lep_etcone20\n",
        "    lep_n = tree.lep_n\n",
        "    lep_type =tree.lep_type\n",
        "    \n",
        "    for i in range(lep_n):\n",
        "        if( lep_pt[i] < 24e3): continue \n",
        "        if( lep_ptcone30[i]/lep_pt[i] > 0.15 ): continue\n",
        "        if( lep_etcone20[i]/lep_pt[i] > 0.15 ): continue  \n",
        "        if( lep_type[i]==13 and TMath.Abs(lep_eta[i]) < 2.5 ):  n_mu+=1\n",
        "        #To complete: Add electrons and extract the index for the good lepton\n",
        "        eta_lep=TMath.Abs(lep_eta[i])\n",
        "        good_electron = eta_lep < 2.47 and (eta_lep < 1.37 or eta_lep >1.52 )\n",
        "        if( lep_type[i]==11 and good_electron ):  n_el+=1\n",
        "        index_lep.append(i)\n",
        "        n_lep+=1\n",
        "    \n",
        "    #Select events with only 1 good lepton and fill the cutflow histogram \n",
        "    #Example:\n",
        "    #Third cut (one good lepton):\n",
        "    if not n_lep==1 : continue\n",
        "    cut3+=1\n",
        "    cutflow.Fill(3)\n",
        "    \n",
        "    #Fourth cut: At least 4 jets\n",
        "    ##Number of jets distribution\n",
        "    jet_n=tree.jet_n\n",
        "    hist_njets.Fill(jet_n)\n",
        "    if(jet_n<4): continue\n",
        "    cutflow.Fill(4)\n",
        "    cut4+=1\n",
        "    \n",
        "    #Searching good jets\n",
        "    n_jets=0\n",
        "    n_bjets=0\n",
        "    jet_pt=tree.jet_pt\n",
        "    jet_eta=tree.jet_eta\n",
        "    jet_mv1=tree.jet_MV1\n",
        "    jet_jvf=tree.jet_jvf\n",
        "    for j in range(jet_n):\n",
        "        if(jet_pt[j] < 25e3): continue\n",
        "        #To complete: apply jet cuts to find the good jets\n",
        "        if(jet_eta[j] > 2.5): continue\n",
        "        if(jet_pt[j] < 50e3 )and(jet_jvf[j]<0.59)and(jet_eta[j] > 2.4): continue\n",
        "        n_jets+=1\n",
        "        #cut on 0.7892 MV1 and count the number of b-jets\n",
        "        if(jet_mv1[j]>=0.7892): \n",
        "            n_bjets+=1\n",
        "    \n",
        "    #Fifth cut: At least 4 good jets\n",
        "    if(n_jets < 4): continue\n",
        "    cutflow.Fill(5)\n",
        "    cut5+=1\n",
        "    \n",
        "    #Sixth cut: At least 2 good bjets\n",
        "    if(n_bjets<2): continue\n",
        "    cutflow.Fill(6)\n",
        "    cut6+=1\n",
        "    \n",
        "    #Seventh cut: MET > 30 GeV\n",
        "    MET=tree.met_et\n",
        "    if(MET<30e3): continue\n",
        "    cutflow.Fill(7)\n",
        "    cut7+=1\n",
        "    \n",
        "    ##TLorentzVector definitions\n",
        "    Lepton  = TLorentzVector()\n",
        "    MeT  = TLorentzVector()\n",
        "    ##To complete: Lorentz vectors for the lepton and MET. Use SetPtEtaPhiE().\n",
        "    Lepton.SetPtEtaPhiE(lep_pt[0],lep_eta[0],lep_phi[0],lep_E[0])\n",
        "    MeT.SetPtEtaPhiE(MET,0,tree.met_phi,MET)\n",
        "        \n",
        "    ##Calculation of the mTW using TLorentz vectors\n",
        "    mTW = TMath.Sqrt(2.*Lepton.Pt()*MeT.Et()*(1.-cos(Lepton.DeltaPhi(MeT))))\n",
        "    \n",
        "    ##Eight cut: mTW > 30 GeV\n",
        "    if(mTW<30e3): continue\n",
        "    cutflow.Fill(8)\n",
        "    cut8+=1\n",
        "\n",
        "print(\"Done!\")\n",
        "print(\"All events:\" + str(nEvents))\n",
        "print(\"Cut1:\" + str(cut1))\n",
        "print(\"Cut2:\" + str(cut2))\n",
        "print(\"Cut3:\" + str(cut3))\n",
        "print(\"Cut4:\" + str(cut4))\n",
        "print(\"Cut5:\" + str(cut5))\n",
        "print(\"Cut6:\" + str(cut6))\n",
        "print(\"Cut7:\" + str(cut7))\n",
        "print(\"Cut8:\" + str(cut8))"
      ]
    },
    {
      "cell_type": "markdown",
      "metadata": {
        "id": "COmpO6VAoza9"
      },
      "source": [
        "Draw"
      ]
    },
    {
      "cell_type": "code",
      "execution_count": 8,
      "metadata": {
        "colab": {
          "base_uri": "https://localhost:8080/",
          "height": 589
        },
        "id": "_5gApw_y73Vg",
        "outputId": "c5f5fd1d-5b02-420d-a85f-1f3c21a164d9"
      },
      "outputs": [
        {
          "output_type": "display_data",
          "data": {
            "image/png": "[encoded data removed]",
            "text/plain": [
              "<IPython.core.display.Image object>"
            ]
          },
          "metadata": {}
        }
      ],
      "source": [
        "cutflow.Draw(\"\");\n",
        "canvas.Draw();"
      ]
    },
    {
      "cell_type": "code",
      "execution_count": 9,
      "metadata": {
        "colab": {
          "base_uri": "https://localhost:8080/",
          "height": 589
        },
        "id": "v0uD4Hsu73Vg",
        "outputId": "b82ed7de-4f07-4aef-cf77-30a388c89f95"
      },
      "outputs": [
        {
          "output_type": "display_data",
          "data": {
            "image/png": "[encoded data removed]",
            "text/plain": [
              "<IPython.core.display.Image object>"
            ]
          },
          "metadata": {}
        }
      ],
      "source": [
        "hist_njets.Draw();\n",
        "canvas.Draw();"
      ]
    },
    {
      "cell_type": "code",
      "source": [
        "c = TCanvas(\"Canvas3\",\"\",800,600)\n",
        "pt_all_lepts=TH1F(\"pt_all_lepts\", \"Pt_{#ell}; (MeV); entries\", 100, 0.0, 1000.0)\n",
        "track_isolation_lepts=TH1F(\"track_isolation_lepts\", \"; (MeV); entries\", 100, 0.0, 1.0)\n",
        "cal_isolation_lepts=TH1F(\"pt_all_lepts\", \"; (MeV); entries\", 100, 0.0, 1.0)"
      ],
      "metadata": {
        "id": "Engr0wdIpQcW"
      },
      "execution_count": null,
      "outputs": []
    },
    {
      "cell_type": "code",
      "source": [
        "def FillHistos(event):\n",
        "  for i in range(event.lep_n):\n",
        "    pt_all_lepts.Fill(lep_pt[i])\n",
        "    track_isolation_lepts.Fill(lep_ptcone30[i]/lep_pt[i])\n",
        "    cal_isolation_lepts.Fill(lep_etcone30[i]/lep_pt[i])"
      ],
      "metadata": {
        "id": "lxgehUegsKCe"
      },
      "execution_count": null,
      "outputs": []
    },
    {
      "cell_type": "code",
      "source": [
        ""
      ],
      "metadata": {
        "id": "RzsN8ES3sJhn"
      },
      "execution_count": null,
      "outputs": []
    },
    {
      "cell_type": "code",
      "source": [
        "hist_njets.Draw();\n",
        "canvas.SaveAs(\"Plots.pdf\");"
      ],
      "metadata": {
        "colab": {
          "base_uri": "https://localhost:8080/"
        },
        "id": "UDTuY5OTmbDm",
        "outputId": "dd03f4b9-a346-4c96-e955-71d77b8a1a50"
      },
      "execution_count": 10,
      "outputs": [
        {
          "output_type": "stream",
          "name": "stderr",
          "text": [
            "Info in <TCanvas::Print>: pdf file Plots.pdf has been created\n"
          ]
        }
      ]
    }
  ],
  "metadata": {
    "colab": {
      "name": "03_TTbarSel_8TeV.ipynb",
      "provenance": [],
      "collapsed_sections": [],
      "include_colab_link": true
    },
    "kernelspec": {
      "display_name": "Python 3 (ipykernel)",
      "language": "python",
      "name": "python3"
    },
    "language_info": {
      "codemirror_mode": {
        "name": "ipython",
        "version": 3
      },
      "file_extension": ".py",
      "mimetype": "text/x-python",
      "name": "python",
      "nbconvert_exporter": "python",
      "pygments_lexer": "ipython3",
      "version": "3.8.10"
    }
  },
  "nbformat": 4,
  "nbformat_minor": 0
}