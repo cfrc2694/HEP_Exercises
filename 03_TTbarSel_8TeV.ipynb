{
  "cells": [
    {
      "cell_type": "markdown",
      "metadata": {
        "id": "view-in-github",
        "colab_type": "text"
      },
      "source": [
        "<a href=\"https://colab.research.google.com/github/cfrc2694/HEP_Exercises/blob/main/03_TTbarSel_8TeV.ipynb\" target=\"_parent\"><img src=\"https://colab.research.google.com/assets/colab-badge.svg\" alt=\"Open In Colab\"/></a>"
      ]
    },
    {
      "cell_type": "markdown",
      "metadata": {
        "id": "1PQL4M3r73VY"
      },
      "source": [
        "# An introductional notebook to HEP analysis in C++\n",
        "\n",
        "<p>In this notebook you can find an easy set of commands that show some basic computing techniques commonly used in High Energy Physics (HEP) analyzes.</p>\n",
        "\n",
        "<p>It also shows how to create an histogram, fill it and draw it. Moreover it is an introduction to [ROOT](https://root.cern.ch/) too. The final output is a plot with the number of leptons.</p>\n",
        "\n",
        "Based on ATLAS opendata notebooks (http://opendata.atlas.cern/release/2020/documentation/notebooks/intro.html)\n"
      ]
    },
    {
      "cell_type": "markdown",
      "metadata": {
        "id": "m9fD4kkH73Vb"
      },
      "source": [
        "The library used is [ROOT](https://root.cern.ch/), a scientific data analysis software framework that provides a large set of functionalities needed to deal with big data processing, statistical analysis, visualisation and storage."
      ]
    },
    {
      "cell_type": "markdown",
      "metadata": {
        "id": "-HJQ7Alq73Vc"
      },
      "source": [
        "<p>At first we have to include several helpers that will support our analysis:</p>"
      ]
    },
    {
      "cell_type": "code",
      "execution_count": null,
      "metadata": {
        "colab": {
          "base_uri": "https://localhost:8080/"
        },
        "id": "W2DkXosz73Vc",
        "outputId": "eb38f14b-25d4-4b9f-c696-f898ad99940a"
      },
      "outputs": [
        {
          "output_type": "stream",
          "name": "stdout",
          "text": [
            "libxext-dev is already the newest version (2:1.3.3-1).\n",
            "libxext-dev set to manually installed.\n",
            "libxft-dev is already the newest version (2.3.2-1).\n",
            "cmake is already the newest version (3.10.2-1ubuntu2.18.04.2).\n",
            "dpkg-dev is already the newest version (1.19.0.5ubuntu2.3).\n",
            "dpkg-dev set to manually installed.\n",
            "g++ is already the newest version (4:7.4.0-1ubuntu2.3).\n",
            "g++ set to manually installed.\n",
            "gcc is already the newest version (4:7.4.0-1ubuntu2.3).\n",
            "gcc set to manually installed.\n",
            "gfortran is already the newest version (4:7.4.0-1ubuntu2.3).\n",
            "git is already the newest version (1:2.17.1-1ubuntu0.9).\n",
            "libx11-dev is already the newest version (2:1.6.4-3ubuntu0.4).\n",
            "libx11-dev set to manually installed.\n",
            "python2.7 is already the newest version (2.7.17-1~18.04ubuntu1.6).\n",
            "python2.7 set to manually installed.\n",
            "The following additional packages will be installed:\n",
            "  binutils-common binutils-x86-64-linux-gnu libapr1 libaprutil1 libbinutils\n",
            "  libserf-1-1 libsvn1\n",
            "Suggested packages:\n",
            "  binutils-doc db5.3-util libapache2-mod-svn subversion-tools ncompress\n",
            "  tar-scripts tar-doc\n",
            "The following NEW packages will be installed:\n",
            "  libapr1 libaprutil1 libserf-1-1 libsvn1 libxpm-dev subversion\n",
            "The following packages will be upgraded:\n",
            "  binutils binutils-common binutils-x86-64-linux-gnu libbinutils tar\n",
            "5 upgraded, 6 newly installed, 0 to remove and 32 not upgraded.\n",
            "Need to get 5,086 kB of archives.\n",
            "After this operation, 10.1 MB of additional disk space will be used.\n",
            "(Reading database ... 155229 files and directories currently installed.)\n",
            "Preparing to unpack .../tar_1.29b-2ubuntu0.2_amd64.deb ...\n",
            "Unpacking tar (1.29b-2ubuntu0.2) over (1.29b-2ubuntu0.1) ...\n",
            "Setting up tar (1.29b-2ubuntu0.2) ...\n",
            "update-alternatives: warning: forcing reinstallation of alternative /usr/sbin/rmt-tar because link group rmt is broken\n",
            "(Reading database ... 155229 files and directories currently installed.)\n",
            "Preparing to unpack .../0-binutils-x86-64-linux-gnu_2.30-21ubuntu1~18.04.7_amd64.deb ...\n",
            "Unpacking binutils-x86-64-linux-gnu (2.30-21ubuntu1~18.04.7) over (2.30-21ubuntu1~18.04.4) ...\n",
            "Preparing to unpack .../1-binutils-common_2.30-21ubuntu1~18.04.7_amd64.deb ...\n",
            "Unpacking binutils-common:amd64 (2.30-21ubuntu1~18.04.7) over (2.30-21ubuntu1~18.04.4) ...\n",
            "Preparing to unpack .../2-binutils_2.30-21ubuntu1~18.04.7_amd64.deb ...\n",
            "Unpacking binutils (2.30-21ubuntu1~18.04.7) over (2.30-21ubuntu1~18.04.4) ...\n",
            "Preparing to unpack .../3-libbinutils_2.30-21ubuntu1~18.04.7_amd64.deb ...\n",
            "Unpacking libbinutils:amd64 (2.30-21ubuntu1~18.04.7) over (2.30-21ubuntu1~18.04.4) ...\n",
            "Selecting previously unselected package libapr1:amd64.\n",
            "Preparing to unpack .../4-libapr1_1.6.3-2_amd64.deb ...\n",
            "Unpacking libapr1:amd64 (1.6.3-2) ...\n",
            "Selecting previously unselected package libaprutil1:amd64.\n",
            "Preparing to unpack .../5-libaprutil1_1.6.1-2_amd64.deb ...\n",
            "Unpacking libaprutil1:amd64 (1.6.1-2) ...\n",
            "Selecting previously unselected package libserf-1-1:amd64.\n",
            "Preparing to unpack .../6-libserf-1-1_1.3.9-6_amd64.deb ...\n",
            "Unpacking libserf-1-1:amd64 (1.3.9-6) ...\n",
            "Selecting previously unselected package libsvn1:amd64.\n",
            "Preparing to unpack .../7-libsvn1_1.9.7-4ubuntu1_amd64.deb ...\n",
            "Unpacking libsvn1:amd64 (1.9.7-4ubuntu1) ...\n",
            "Selecting previously unselected package libxpm-dev:amd64.\n",
            "Preparing to unpack .../8-libxpm-dev_1%3a3.5.12-1_amd64.deb ...\n",
            "Unpacking libxpm-dev:amd64 (1:3.5.12-1) ...\n",
            "Selecting previously unselected package subversion.\n",
            "Preparing to unpack .../9-subversion_1.9.7-4ubuntu1_amd64.deb ...\n",
            "Unpacking subversion (1.9.7-4ubuntu1) ...\n",
            "Setting up libapr1:amd64 (1.6.3-2) ...\n",
            "Setting up libxpm-dev:amd64 (1:3.5.12-1) ...\n",
            "Setting up binutils-common:amd64 (2.30-21ubuntu1~18.04.7) ...\n",
            "Setting up libaprutil1:amd64 (1.6.1-2) ...\n",
            "Setting up libbinutils:amd64 (2.30-21ubuntu1~18.04.7) ...\n",
            "Setting up libserf-1-1:amd64 (1.3.9-6) ...\n",
            "Setting up libsvn1:amd64 (1.9.7-4ubuntu1) ...\n",
            "Setting up binutils-x86-64-linux-gnu (2.30-21ubuntu1~18.04.7) ...\n",
            "Setting up subversion (1.9.7-4ubuntu1) ...\n",
            "Setting up binutils (2.30-21ubuntu1~18.04.7) ...\n",
            "Processing triggers for libc-bin (2.27-3ubuntu1.3) ...\n",
            "/sbin/ldconfig.real: /usr/local/lib/python3.7/dist-packages/ideep4py/lib/libmkldnn.so.0 is not a symbolic link\n",
            "\n",
            "Processing triggers for man-db (2.8.3-2ubuntu0.1) ...\n",
            "Processing triggers for mime-support (3.60ubuntu1) ...\n",
            "Downloading...\n",
            "From: https://drive.google.com/uc?id=1bWgcTAMG7IoyQASWwrrOQrGe4haUAo9t\n",
            "To: /content/root_for_colab.tar.gz\n",
            "100% 1.57G/1.57G [00:12<00:00, 130MB/s]\n"
          ]
        }
      ],
      "source": [
        "import os\n",
        "\n",
        "try:\n",
        "  import google.colab\n",
        "  IN_COLAB = True\n",
        "except:\n",
        "  IN_COLAB = False\n",
        "\n",
        "if (IN_COLAB):\n",
        "  !apt -qq install git dpkg-dev cmake g++ gcc binutils libx11-dev libxpm-dev libxft-dev libxext-dev tar gfortran subversion python2.7\n",
        "  if (os.path.isdir(\"/content/root\")):\n",
        "    pass\n",
        "  else:\n",
        "    !gdown https://drive.google.com/uc?id=1bWgcTAMG7IoyQASWwrrOQrGe4haUAo9t\n",
        "    !cd /; tar xzf /content/root_for_colab.tar.gz\n",
        "    !rm -rf root_for_colab.tar.gz*\n",
        "  import sys\n",
        "  sys.path.append(\"/content/root/build/\")\n",
        "  sys.path.append(\"/content/root/build/bin/\")\n",
        "  sys.path.append(\"/content/root/build/include/\")\n",
        "  sys.path.append(\"/content/root/build/lib/\")\n",
        "\n",
        "import ROOT\n",
        "from ROOT import *"
      ]
    },
    {
      "cell_type": "markdown",
      "metadata": {
        "id": "TQ5ynQI473Vc"
      },
      "source": [
        "Next we have to open the data that we want to analyze. As described above the data is stored in a _*.root_ file. This is a root file containing tracks and calorimeter clusters"
      ]
    },
    {
      "cell_type": "code",
      "execution_count": null,
      "metadata": {
        "colab": {
          "background_save": true
        },
        "id": "pc-w4dra73Vd"
      },
      "outputs": [],
      "source": [
        "file_name='Data_8TeV.root'\n",
        "#f = ROOT.TFile.Open(\"http://csandova.web.cern.ch/csandova/HEP-Ex-Course/Code/TTbarSel/Data_8TeV.root\")\n",
        "if (os.path.isfile(file_name)):\n",
        "    pass\n",
        "else :\n",
        "    !wget http://csandova.web.cern.ch/csandova/HEP-Ex-Course/Code/TTbarSel/Data_8TeV.root -O Data_8TeV.root\n",
        "f = TFile.Open(file_name)"
      ]
    },
    {
      "cell_type": "markdown",
      "metadata": {
        "id": "0SjzglpY73Vd"
      },
      "source": [
        "The next step is to define a tree named _tree_ to get the data out of the _*.root_ file. The tree in this root file is called \"JetRecoTree\". We will then print the contents of the tree to find the names of the variables. "
      ]
    },
    {
      "cell_type": "code",
      "execution_count": null,
      "metadata": {
        "colab": {
          "background_save": true
        },
        "id": "CBnLZr6i73Vd",
        "scrolled": false
      },
      "outputs": [],
      "source": [
        "tree = f.Get(\"mini\")\n",
        "tree.Print()"
      ]
    },
    {
      "cell_type": "markdown",
      "metadata": {
        "id": "9ZOU7ixd73Ve"
      },
      "source": [
        "Create Canvas"
      ]
    },
    {
      "cell_type": "code",
      "execution_count": null,
      "metadata": {
        "colab": {
          "background_save": true
        },
        "id": "0yPJOmMl73Ve"
      },
      "outputs": [],
      "source": [
        "canvas = TCanvas(\"Canvas\",\"\",800,600);"
      ]
    },
    {
      "cell_type": "markdown",
      "metadata": {
        "id": "NcBW48_m73Vf"
      },
      "source": [
        "Create histograms: Leading jet pT and all jets pT "
      ]
    },
    {
      "cell_type": "code",
      "execution_count": null,
      "metadata": {
        "colab": {
          "background_save": true
        },
        "id": "xtBkdKsr73Vf"
      },
      "outputs": [],
      "source": [
        "cutflow = TH1F(\"Cutflow\",\"Cutflow; Cut; Events\",10,0,10);\n",
        "hist_njets = TH1F(\"Number of jets\",\"n-jets; Jet multiplicity; Events\",10,0,10);"
      ]
    },
    {
      "cell_type": "markdown",
      "metadata": {
        "id": "vYLQoUtm73Vf"
      },
      "source": [
        "Loop and fill histograms"
      ]
    },
    {
      "cell_type": "code",
      "execution_count": null,
      "metadata": {
        "colab": {
          "background_save": true
        },
        "id": "4qT76YX8oza5"
      },
      "outputs": [],
      "source": [
        "!pip install etaprogress\n",
        "import sys\n",
        "import time\n",
        "from etaprogress.progress import ProgressBar\n",
        "bar = ProgressBar(tree.GetEntries(), max_width=100)"
      ]
    },
    {
      "cell_type": "code",
      "execution_count": null,
      "metadata": {
        "colab": {
          "background_save": true
        },
        "id": "6h7FaqCO73Vf",
        "scrolled": false
      },
      "outputs": [],
      "source": [
        "printEachPercent=10\n",
        "\n",
        "cut1 = 0\n",
        "cut2 = 0\n",
        "cut3 = 0\n",
        "cut4 = 0\n",
        "cut5 = 0\n",
        "cut6 = 0\n",
        "cut7 = 0\n",
        "cut8 = 0\n",
        "\n",
        "bar.numerator = 0\n",
        "print(bar)\n",
        "nEvents =tree.GetEntries()\n",
        "nSplits=int(100/printEachPercent)\n",
        "\n",
        "for event in tree:\n",
        "    bar.numerator+=1\n",
        "    i=bar.numerator\n",
        "    if int(nSplits*i/nEvents)!=int(nSplits*(i-1)/nEvents):\n",
        "        print(bar)\n",
        "    cutflow.Fill(0)\n",
        "    \n",
        "    #First cut: Good vertex\n",
        "    good_vtx = tree.hasGoodVertex\n",
        "    ##Discard all events without a good vertex\n",
        "    if not good_vtx: continue\n",
        "    cut1+=1\n",
        "    cutflow.Fill(1)\n",
        "    \n",
        "    #Second cut: Trigger\n",
        "    e_trig = tree.trigE\n",
        "    mu_trig = tree.trigM\n",
        "    \n",
        "    ##Discard all events without a e_trig and a mu_trig\n",
        "    if ((not e_trig) and (not mu_trig)) : continue\n",
        "    cut2+=1\n",
        "    cutflow.Fill(2)\n",
        "    \n",
        "    ##Preselection of good leptons                                                                                \n",
        "    n_mu=0\n",
        "    n_el=0\n",
        "    n_lep=0\n",
        "    index_lep = []\n",
        "    lep_pt = tree.lep_pt\n",
        "    lep_phi = tree.lep_phi\n",
        "    lep_eta = tree.lep_eta\n",
        "    lep_E = tree.lep_E\n",
        "    lep_ptcone30=tree.lep_ptcone30\n",
        "    lep_etcone20=tree.lep_etcone20\n",
        "    lep_n = tree.lep_n\n",
        "    lep_type =tree.lep_type\n",
        "    \n",
        "    for i in range(lep_n):\n",
        "        if( lep_pt[i] < 24e3): continue \n",
        "        if( lep_ptcone30[i]/lep_pt[i] > 0.15 ): continue\n",
        "        if( lep_etcone20[i]/lep_pt[i] > 0.15 ): continue  \n",
        "        if( lep_type[i]==13 and TMath.Abs(lep_eta[i]) < 2.5 ):  n_mu+=1\n",
        "        #To complete: Add electrons and extract the index for the good lepton\n",
        "        eta_lep=TMath.Abs(lep_eta[i])\n",
        "        good_electron = eta_lep < 2.47 and (eta_lep < 1.37 or eta_lep >1.52 )\n",
        "        if( lep_type[i]==11 and good_electron ):  n_el+=1\n",
        "        index_lep.append(i)\n",
        "        n_lep+=1\n",
        "    \n",
        "    #Select events with only 1 good lepton and fill the cutflow histogram \n",
        "    #Example:\n",
        "    #Third cut (one good lepton):\n",
        "    if not n_lep==1 : continue\n",
        "    cut3+=1\n",
        "    cutflow.Fill(3)\n",
        "    \n",
        "    #Fourth cut: At least 4 jets\n",
        "    ##Number of jets distribution\n",
        "    jet_n=tree.jet_n\n",
        "    hist_njets.Fill(jet_n)\n",
        "    if(jet_n<4): continue\n",
        "    cutflow.Fill(4)\n",
        "    cut4+=1\n",
        "    \n",
        "    #Searching good jets\n",
        "    n_jets=0\n",
        "    n_bjets=0\n",
        "    jet_pt=tree.jet_pt\n",
        "    jet_eta=tree.jet_eta\n",
        "    jet_mv1=tree.jet_MV1\n",
        "    jet_jvf=tree.jet_jvf\n",
        "    for j in range(jet_n):\n",
        "        if(jet_pt[j] < 25e3): continue\n",
        "        #To complete: apply jet cuts to find the good jets\n",
        "        if(jet_eta[j] > 2.5): continue\n",
        "        if(jet_pt[j] < 50e3 )and(jet_jvf[j]<0.59)and(jet_eta[j] > 2.4): continue\n",
        "        n_jets+=1\n",
        "        #cut on 0.7892 MV1 and count the number of b-jets\n",
        "        if(jet_mv1[j]>=0.7892): \n",
        "            n_bjets+=1\n",
        "    \n",
        "    #Fifth cut: At least 4 good jets\n",
        "    if(n_jets < 4): continue\n",
        "    cutflow.Fill(5)\n",
        "    cut5+=1\n",
        "    \n",
        "    #Sixth cut: At least 2 good bjets\n",
        "    if(n_bjets<2): continue\n",
        "    cutflow.Fill(6)\n",
        "    cut6+=1\n",
        "    \n",
        "    #Seventh cut: MET > 30 GeV\n",
        "    MET=tree.met_et\n",
        "    if(MET<30e3): continue\n",
        "    cutflow.Fill(7)\n",
        "    cut7+=1\n",
        "    \n",
        "    ##TLorentzVector definitions\n",
        "    Lepton  = TLorentzVector()\n",
        "    MeT  = TLorentzVector()\n",
        "    ##To complete: Lorentz vectors for the lepton and MET. Use SetPtEtaPhiE().\n",
        "    Lepton.SetPtEtaPhiE(lep_pt[0],lep_eta[0],lep_phi[0],lep_E[0])\n",
        "    MeT.SetPtEtaPhiE(MET,0,tree.met_phi,MET)\n",
        "        \n",
        "    ##Calculation of the mTW using TLorentz vectors\n",
        "    mTW = TMath.Sqrt(2.*Lepton.Pt()*MeT.Et()*(1.-cos(Lepton.DeltaPhi(MeT))))\n",
        "    \n",
        "    ##Eight cut: mTW > 30 GeV\n",
        "    if(mTW<30e3): continue\n",
        "    cutflow.Fill(8)\n",
        "    cut8+=1\n",
        "\n",
        "print(\"Done!\")\n",
        "print(\"All events:\" + str(nEvents))\n",
        "print(\"Cut1:\" + str(cut1))\n",
        "print(\"Cut2:\" + str(cut2))\n",
        "print(\"Cut3:\" + str(cut3))\n",
        "print(\"Cut4:\" + str(cut4))\n",
        "print(\"Cut5:\" + str(cut5))\n",
        "print(\"Cut6:\" + str(cut6))\n",
        "print(\"Cut7:\" + str(cut7))\n",
        "print(\"Cut8:\" + str(cut8))"
      ]
    },
    {
      "cell_type": "markdown",
      "metadata": {
        "id": "COmpO6VAoza9"
      },
      "source": [
        "Draw"
      ]
    },
    {
      "cell_type": "code",
      "execution_count": null,
      "metadata": {
        "colab": {
          "background_save": true
        },
        "id": "_5gApw_y73Vg"
      },
      "outputs": [],
      "source": [
        "cutflow.Draw(\"\");\n",
        "canvas.Draw();"
      ]
    },
    {
      "cell_type": "code",
      "execution_count": null,
      "metadata": {
        "colab": {
          "background_save": true
        },
        "id": "v0uD4Hsu73Vg"
      },
      "outputs": [],
      "source": [
        "hist_njets.Draw();\n",
        "canvas.Draw();"
      ]
    },
    {
      "cell_type": "code",
      "execution_count": null,
      "metadata": {
        "id": "A51q_1xXd9aC"
      },
      "outputs": [],
      "source": [
        ""
      ]
    }
  ],
  "metadata": {
    "colab": {
      "name": "03_TTbarSel_8TeV.ipynb",
      "provenance": [],
      "collapsed_sections": [],
      "include_colab_link": true
    },
    "kernelspec": {
      "display_name": "Python 3 (ipykernel)",
      "language": "python",
      "name": "python3"
    },
    "language_info": {
      "codemirror_mode": {
        "name": "ipython",
        "version": 3
      },
      "file_extension": ".py",
      "mimetype": "text/x-python",
      "name": "python",
      "nbconvert_exporter": "python",
      "pygments_lexer": "ipython3",
      "version": "3.8.10"
    }
  },
  "nbformat": 4,
  "nbformat_minor": 0
}