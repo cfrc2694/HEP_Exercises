{
  "cells": [
    {
      "cell_type": "markdown",
      "metadata": {
        "id": "view-in-github",
        "colab_type": "text"
      },
      "source": [
        "<a href=\"https://colab.research.google.com/github/cfrc2694/HEP_Exercises/blob/main/04_Data_vs_MC.ipynb\" target=\"_parent\"><img src=\"https://colab.research.google.com/assets/colab-badge.svg\" alt=\"Open In Colab\"/></a>"
      ]
    },
    {
      "cell_type": "markdown",
      "metadata": {
        "id": "1PQL4M3r73VY"
      },
      "source": [
        "# An introductional notebook to HEP analysis in C++\n",
        "\n",
        "<p>In this notebook you can find an easy set of commands that show some basic computing techniques commonly used in High Energy Physics (HEP) analyzes.</p>\n",
        "\n",
        "<p>It also shows how to create an histogram, fill it and draw it. Moreover it is an introduction to [ROOT](https://root.cern.ch/) too. The final output is a plot with the number of leptons.</p>\n",
        "\n",
        "Based on ATLAS opendata notebooks (http://opendata.atlas.cern/release/2020/documentation/notebooks/intro.html)\n"
      ]
    },
    {
      "cell_type": "markdown",
      "metadata": {
        "id": "m9fD4kkH73Vb"
      },
      "source": [
        "The library used is [ROOT](https://root.cern.ch/), a scientific data analysis software framework that provides a large set of functionalities needed to deal with big data processing, statistical analysis, visualisation and storage."
      ]
    },
    {
      "cell_type": "markdown",
      "metadata": {
        "id": "-HJQ7Alq73Vc"
      },
      "source": [
        "<p>At first we have to include several helpers that will support our analysis:</p>"
      ]
    },
    {
      "cell_type": "code",
      "execution_count": null,
      "metadata": {
        "colab": {
          "base_uri": "https://localhost:8080/"
        },
        "id": "W2DkXosz73Vc",
        "outputId": "781b2fae-53bc-4bf5-fb4e-5757269c5c79"
      },
      "outputs": [
        {
          "name": "stdout",
          "output_type": "stream",
          "text": [
            "Welcome to JupyROOT 6.25/01\n"
          ]
        }
      ],
      "source": [
        "import os\n",
        "\n",
        "try:\n",
        "  import google.colab\n",
        "  IN_COLAB = True\n",
        "except:\n",
        "  IN_COLAB = False\n",
        "\n",
        "if (IN_COLAB):\n",
        "  !apt -qq install git dpkg-dev cmake g++ gcc binutils libx11-dev libxpm-dev libxft-dev libxext-dev tar gfortran subversion python2.7\n",
        "  if (os.path.isdir(\"/content/root\")):\n",
        "    pass\n",
        "  else:\n",
        "    !gdown https://drive.google.com/uc?id=1bWgcTAMG7IoyQASWwrrOQrGe4haUAo9t\n",
        "    !cd /; tar xzf /content/root_for_colab.tar.gz\n",
        "    !rm -rf root_for_colab.tar.gz*\n",
        "  import sys\n",
        "  sys.path.append(\"/content/root/build/\")\n",
        "  sys.path.append(\"/content/root/build/bin/\")\n",
        "  sys.path.append(\"/content/root/build/include/\")\n",
        "  sys.path.append(\"/content/root/build/lib/\")\n",
        "\n",
        "import ROOT\n",
        "from ROOT import *"
      ]
    },
    {
      "cell_type": "markdown",
      "metadata": {
        "id": "TQ5ynQI473Vc"
      },
      "source": [
        "Next we have to open the data that we want to analyze. As described above the data is stored in a _*.root_ file. This is a root file containing tracks and calorimeter clusters"
      ]
    },
    {
      "cell_type": "markdown",
      "metadata": {
        "id": "0SjzglpY73Vd"
      },
      "source": [
        "The next step is to define a tree named _tree_ to get the data out of the _*.root_ file. The tree in this root file is called \"JetRecoTree\". We will then print the contents of the tree to find the names of the variables. "
      ]
    },
    {
      "cell_type": "markdown",
      "metadata": {
        "id": "NcBW48_m73Vf"
      },
      "source": [
        "Create histograms: "
      ]
    },
    {
      "cell_type": "code",
      "execution_count": null,
      "metadata": {
        "id": "xtBkdKsr73Vf"
      },
      "outputs": [],
      "source": [
        "cutflow = TH1F(\"Cutflow\",\"Cutflow; Cut; Events\",10,0,10);\n",
        "hist_njets = TH1F(\"Number of jets\",\"n-jets; Jet multiplicity; Events\",10,0,10);\n",
        "\n",
        "pt_lead_lept=TH1F(\"pt_lead_lept\", \";Pt_{lep} (MeV); entries\", 100, 0.0, 200e3)\n",
        "eta_lead_lept=TH1F(\"eta_lead_lept\", \";#eta_{lep};entries\", 100, -5, 5)\n",
        "\n",
        "pt_lead_jet=TH1F(\"pt_lead_jet\", \"; Pt_{j}(MeV) ; entries\", 100, 0.0, 200e3)\n",
        "eta_lead_jet=TH1F(\"eta_lead_jet\", \"; #eta_{j}  ; entries\", 100, -5, 5)\n",
        "\n",
        "pt_slead_jet=TH1F(\"pt_slead_jet\", \"; Pt_{j}(MeV) ; entries\", 100, 0.0, 200e3)\n",
        "eta_slead_jet=TH1F(\"eta_slead_jet\", \"; #eta_{j}  ; entries\", 100, -5, 5)\n",
        "\n",
        "pt_lead_bjet=TH1F(\"pt_lead_bjet\", \"; Pt_{j}(MeV) ; entries\", 100, 0.0, 200e3)\n",
        "eta_lead_bjet=TH1F(\"eta_lead_bjet\", \"; #eta_{j}  ; entries\", 100, -5, 5)\n",
        "\n",
        "pt_slead_bjet=TH1F(\"pt_slead_bjet\", \"; Pt_{bj}(MeV) ; entries\", 100, 0.0, 200e3)\n",
        "eta_slead_bjet=TH1F(\"eta_slead_bjet\", \"; #eta_{bj}  ; entries\", 100, -5, 5)\n",
        "\n",
        "hist_Met=TH1F(\"hist_Met\", \"; MeT (MeV); entries\", 100, 0.0, 200e3)\n"
      ]
    },
    {
      "cell_type": "code",
      "execution_count": null,
      "metadata": {
        "id": "VrHo1Bvqttmu",
        "outputId": "cc747d75-34ce-4d6f-d8ca-c17a48d8eaf3"
      },
      "outputs": [
        {
          "name": "stdout",
          "output_type": "stream",
          "text": [
            "Requirement already satisfied: etaprogress in /home/crisfer2694/.local/lib/python3.8/site-packages (1.1.1)\r\n"
          ]
        }
      ],
      "source": [
        "!pip install etaprogress\n",
        "import sys\n",
        "import time\n",
        "from etaprogress.progress import ProgressBar\n",
        "fullAnalysis=True"
      ]
    },
    {
      "cell_type": "markdown",
      "metadata": {
        "id": "vYLQoUtm73Vf"
      },
      "source": [
        "Loop and fill histograms"
      ]
    },
    {
      "cell_type": "code",
      "execution_count": null,
      "metadata": {
        "colab": {
          "base_uri": "https://localhost:8080/"
        },
        "id": "6h7FaqCO73Vf",
        "outputId": "4b832c7e-d639-4e43-b43d-27c7a38e42a1",
        "scrolled": false
      },
      "outputs": [
        {
          "name": "stdout",
          "output_type": "stream",
          "text": [
            "  0% (       0/14945674) [                     ] eta --:-- /\n",
            " 10% ( 1494568/14945674) [##                   ] eta 20:45 -\n",
            " 20% ( 2989135/14945674) [####                 ] eta 19:35 \\\n",
            " 30% ( 4483703/14945674) [######               ] eta 16:14 |\n"
          ]
        }
      ],
      "source": [
        "file_name='Data_8TeV.root'\n",
        "#f = ROOT.TFile.Open(\"http://csandova.web.cern.ch/csandova/HEP-Ex-Course/Code/TTbarSel/ttbar_8TeV.root\")\n",
        "if (os.path.isfile(file_name)):\n",
        "    pass\n",
        "else :\n",
        "    !wget http://csandova.web.cern.ch/csandova/HEP-Ex-Course/Code/TTbarSel/Data_8TeV.root -O Data_8TeV.root\n",
        "f = TFile.Open(file_name)\n",
        "tree = f.Get(\"mini\")\n",
        "\n",
        "bar = ProgressBar(tree.GetEntries(), max_width=60)\n",
        "\n",
        "printEachPercent=10\n",
        "cut1 = 0\n",
        "cut2 = 0\n",
        "cut3 = 0\n",
        "cut4 = 0\n",
        "cut5 = 0\n",
        "cut6 = 0\n",
        "cut7 = 0\n",
        "cut8 = 0\n",
        "\n",
        "bar.numerator = 0\n",
        "print(bar)\n",
        "nEvents =tree.GetEntries()\n",
        "nSplits=int(100/printEachPercent)\n",
        "\n",
        "for event in tree:\n",
        "    bar.numerator+=1\n",
        "    i=bar.numerator\n",
        "    if (not fullAnalysis) and (i>nEvents/100) :break\n",
        "    if int(nSplits*i/nEvents)!=int(nSplits*(i-1)/nEvents):\n",
        "        print(bar)\n",
        "    cutflow.Fill(0)\n",
        "    \n",
        "    #First cut: Good vertex\n",
        "    good_vtx = tree.hasGoodVertex\n",
        "    ##Discard all events without a good vertex\n",
        "    if not good_vtx: continue\n",
        "    cut1+=1\n",
        "    cutflow.Fill(1)\n",
        "    \n",
        "    \n",
        "    #Second cut: Trigger\n",
        "    e_trig = tree.trigE\n",
        "    mu_trig = tree.trigM\n",
        "    \n",
        "    ##Discard all events without a e_trig and a mu_trig\n",
        "    if ((not e_trig) and (not mu_trig)) : continue\n",
        "    cut2+=1\n",
        "    cutflow.Fill(2)\n",
        "    \n",
        "    ##Preselection of good leptons                                                                                \n",
        "    n_mu=0\n",
        "    n_el=0\n",
        "    n_lep=0\n",
        "    index_lep = []\n",
        "    lep_pt = tree.lep_pt\n",
        "    lep_phi = tree.lep_phi\n",
        "    lep_eta = tree.lep_eta\n",
        "    lep_E = tree.lep_E\n",
        "    lep_ptcone30=tree.lep_ptcone30\n",
        "    lep_etcone20=tree.lep_etcone20\n",
        "    lep_n = tree.lep_n\n",
        "    lep_type =tree.lep_type\n",
        "    \n",
        "    for i in range(lep_n):\n",
        "        if( lep_pt[i] < 24e3): continue \n",
        "        if( lep_ptcone30[i]/lep_pt[i] > 0.15 ): continue\n",
        "        if( lep_etcone20[i]/lep_pt[i] > 0.15 ): continue  \n",
        "        if( lep_type[i]==13 and TMath.Abs(lep_eta[i]) < 2.5 ):  n_mu+=1\n",
        "        #To complete: Add electrons and extract the index for the good lepton\n",
        "        eta_lep=TMath.Abs(lep_eta[i])\n",
        "        good_electron = eta_lep < 2.47 and (eta_lep < 1.37 or eta_lep >1.52 )\n",
        "        if( lep_type[i]==11 and good_electron ):  n_el+=1\n",
        "        index_lep.append(i)\n",
        "        n_lep+=1\n",
        "    \n",
        "    #Select events with only 1 good lepton and fill the cutflow histogram \n",
        "    #Example:\n",
        "    #Third cut (one good lepton):\n",
        "    if not n_lep==1 : continue\n",
        "    cut3+=1\n",
        "    cutflow.Fill(3)\n",
        "    \n",
        "    #Fourth cut: At least 4 jets\n",
        "    ##Number of jets distribution\n",
        "    jet_n=tree.jet_n\n",
        "    hist_njets.Fill(jet_n)\n",
        "    if(jet_n<4): continue\n",
        "    cutflow.Fill(4)\n",
        "    cut4+=1\n",
        "    \n",
        "    #Searching good jets\n",
        "    n_jets=0\n",
        "    n_bjets=0\n",
        "    index_jet = []\n",
        "    index_bjet = []\n",
        "    jet_pt=tree.jet_pt\n",
        "    jet_eta=tree.jet_eta\n",
        "    jet_mv1=tree.jet_MV1\n",
        "    jet_jvf=tree.jet_jvf\n",
        "    for j in range(jet_n):\n",
        "        if(jet_pt[j] < 25e3): continue\n",
        "        #To complete: apply jet cuts to find the good jets\n",
        "        if(jet_eta[j] > 2.5): continue\n",
        "        if(jet_pt[j] < 50e3 )and(jet_jvf[j]<0.59)and(jet_eta[j] > 2.4): continue\n",
        "        n_jets+=1\n",
        "        #cut on 0.7892 MV1 and count the number of b-jets\n",
        "        if(jet_mv1[j]>=0.7892): \n",
        "            n_bjets+=1\n",
        "            index_bjet.append(j)\n",
        "        else: \n",
        "            index_jet.append(j)\n",
        "    #Fifth cut: At least 4 good jets\n",
        "    if(n_jets < 4): continue\n",
        "    cutflow.Fill(5)\n",
        "    cut5+=1\n",
        "    \n",
        "    #Sixth cut: At least 2 good bjets\n",
        "    if(n_bjets<2): continue\n",
        "    cutflow.Fill(6)\n",
        "    cut6+=1\n",
        "    \n",
        "    #Seventh cut: MET > 30 GeV\n",
        "    MET=tree.met_et\n",
        "    if(MET<30e3): continue\n",
        "    cutflow.Fill(7)\n",
        "    cut7+=1\n",
        "    \n",
        "    ##TLorentzVector definitions\n",
        "    Lepton  = TLorentzVector()\n",
        "    MeT  = TLorentzVector()\n",
        "    ##To complete: Lorentz vectors for the lepton and MET. Use SetPtEtaPhiE().\n",
        "    Lepton.SetPtEtaPhiE(lep_pt[0],lep_eta[0],lep_phi[0],lep_E[0])\n",
        "    MeT.SetPtEtaPhiE(MET,0,tree.met_phi,MET)\n",
        "        \n",
        "    ##Calculation of the mTW using TLorentz vectors\n",
        "    mTW = TMath.Sqrt(2.*Lepton.Pt()*MeT.Et()*(1.-cos(Lepton.DeltaPhi(MeT))))\n",
        "    \n",
        "    ##Eight cut: mTW > 30 GeV\n",
        "    if(mTW<30e3): continue\n",
        "    cutflow.Fill(8)\n",
        "    cut8+=1\n",
        "    \n",
        "    hist_Met.Fill(MeT.Et())\n",
        "    \n",
        "    ##hist lepton\n",
        "    pt_lead_lept.Fill(lep_pt[index_lep[0]])\n",
        "    eta_lead_lept.Fill(lep_eta[index_lep[0]])\n",
        "    \n",
        "    \n",
        "    ##hist lead jet\n",
        "    pt_l_j=0.0\n",
        "    index_lead_jet=0\n",
        "    for i in range(len(index_jet)):\n",
        "        if(jet_pt[index_jet[i]]>pt_l_j):\n",
        "            pt_l_j=jet_pt[index_jet[i]]\n",
        "            index_lead_jet=index_jet[i]\n",
        "        else : \n",
        "            pass\n",
        "    \n",
        "    pt_lead_jet.Fill(jet_pt[index_lead_jet])\n",
        "    eta_lead_jet.Fill(jet_eta[index_lead_jet])\n",
        "\n",
        "    ##hist lead bjet\n",
        "    pt_l_bj=0.0\n",
        "    index_lead_bjet=0\n",
        "    for i in range(len(index_bjet)):\n",
        "        if(jet_pt[index_bjet[i]]>pt_l_j):\n",
        "            pt_l_bj=jet_pt[index_bjet[i]]\n",
        "            index_lead_bjet=index_bjet[i]\n",
        "        else : \n",
        "            pass\n",
        "    \n",
        "    pt_lead_bjet.Fill  (jet_pt [index_lead_bjet])\n",
        "    eta_lead_bjet.Fill (jet_eta[index_lead_bjet])\n",
        "    \n",
        "    ##pt_slead_jet=TH1F(\"pt_slead_jet\", \"; Pt_{j}(MeV) ; entries\", 100, 0.0, 200e3)\n",
        "    ##eta_slead_jet=TH1F(\"eta_slead_jet\", \"; #eta_{j}  ; entries\", 100, -5, 5)\n",
        "\n",
        "    ##pt_slead_bjet=TH1F(\"pt_slead_bjet\", \"; Pt_{bj}(MeV) ; entries\", 100, 0.0, 200e3)\n",
        "    ##eta_slead_bjet=TH1F(\"eta_slead_bjet\", \"; #eta_{bj}  ; entries\", 100, -5, 5)\n",
        "    \n",
        "    \n",
        "lum=float(nEvents)/137.29749\n",
        "\n",
        "print(\"Done!\")\n",
        "print(\"All events:\" + str(nEvents))\n",
        "print(\"Cut1:\" + str(cut1))\n",
        "print(\"Cut2:\" + str(cut2))\n",
        "print(\"Cut3:\" + str(cut3))\n",
        "print(\"Cut4:\" + str(cut4))\n",
        "print(\"Cut5:\" + str(cut5))\n",
        "print(\"Cut6:\" + str(cut6))\n",
        "print(\"Cut7:\" + str(cut7))\n",
        "print(\"Cut8:\" + str(cut8))"
      ]
    },
    {
      "cell_type": "code",
      "execution_count": null,
      "metadata": {
        "id": "fpTrUA0Ittmw"
      },
      "outputs": [],
      "source": [
        "file_name='ttbar_8TeV.root'\n",
        "#f = ROOT.TFile.Open(\"http://csandova.web.cern.ch/csandova/HEP-Ex-Course/Code/TTbarSel/Data_8TeV.root\")\n",
        "if (os.path.isfile(file_name)):\n",
        "    pass\n",
        "else :\n",
        "    !wget http://csandova.web.cern.ch/csandova/HEP-Ex-Course/Code/TTbarSel/ttbar_8TeV.root -O ttbar_8TeV.root\n",
        "f2 = TFile.Open(file_name)\n",
        "tree = f2.Get(\"mini\")"
      ]
    },
    {
      "cell_type": "code",
      "execution_count": null,
      "metadata": {
        "id": "6VSvj9rPttmw"
      },
      "outputs": [],
      "source": [
        "MC_cutflow = TH1F(\"MC_Cutflow\",\"Cutflow; Cut; Events\",10,0,10)\n",
        "MC_hist_njets = TH1F(\"MC_Number of jets\",\"n-jets; Jet multiplicity; Events\",10,0,10)\n",
        "\n",
        "MC_pt_lead_lept=TH1F(\"MC_pt_lead_lept\", \";Pt_{lep} (MeV); entries\", 100, 0.0, 200e3)\n",
        "MC_eta_lead_lept=TH1F(\"MC_eta_lead_lept\", \";#eta_{lep};entries\", 100, -5, 5)\n",
        "\n",
        "MC_pt_lead_jet=TH1F(\"MC_pt_lead_jet\", \"; Pt_{j}(MeV) ; entries\", 100, 0.0, 200e3)\n",
        "MC_eta_lead_jet=TH1F(\"MC_eta_lead_jet\", \"; #eta_{j}  ; entries\", 100, -5, 5)\n",
        "\n",
        "MC_pt_slead_jet=TH1F(\"MC_pt_slead_jet\", \"; Pt_{j}(MeV) ; entries\", 100, 0.0, 200e3)\n",
        "MC_eta_slead_jet=TH1F(\"MC_eta_slead_jet\", \"; #eta_{j}  ; entries\", 100, -5, 5)\n",
        "\n",
        "MC_pt_lead_bjet=TH1F(\"MC_pt_lead_bjet\", \"; Pt_{j}(MeV) ; entries\", 100, 0.0, 200e3)\n",
        "MC_eta_lead_bjet=TH1F(\"MC_eta_lead_bjet\", \"; #eta_{j}  ; entries\", 100, -5, 5)\n",
        "\n",
        "MC_pt_slead_bjet=TH1F(\"MC_pt_slead_bjet\", \"; Pt_{bj}(MeV) ; entries\", 100, 0.0, 200e3)\n",
        "MC_eta_slead_bjet=TH1F(\"MC_eta_slead_bjet\", \"; #eta_{bj}  ; entries\", 100, -5, 5)\n",
        "\n",
        "MC_hist_Met=TH1F(\"MC_hist_Met\", \"; MeT (MeV); entries\", 100, 0.0, 200e3)\n"
      ]
    },
    {
      "cell_type": "code",
      "execution_count": null,
      "metadata": {
        "scrolled": false,
        "id": "T9glOE6xttmw"
      },
      "outputs": [],
      "source": [
        "bar = ProgressBar(tree.GetEntries(), max_width=60)\n",
        "\n",
        "printEachPercent=10\n",
        "cut1 = 0\n",
        "cut2 = 0\n",
        "cut3 = 0\n",
        "cut4 = 0\n",
        "cut5 = 0\n",
        "cut6 = 0\n",
        "cut7 = 0\n",
        "cut8 = 0\n",
        "\n",
        "bar.numerator = 0\n",
        "print(bar)\n",
        "nEvents =tree.GetEntries()\n",
        "nSplits=int(100/printEachPercent)\n",
        "\n",
        "for event in tree:\n",
        "    evtw=tree.mcWeight\n",
        "    evtw*=tree.scaleFactor_PILEUP\n",
        "    evtw*=tree.scaleFactor_ELE\n",
        "    evtw*=tree.scaleFactor_MUON\n",
        "    evtw*=tree.scaleFactor_BTAG\n",
        "    evtw*=tree.scaleFactor_TRIGGER\n",
        "    evtw*=tree.scaleFactor_JVFSF\n",
        "    evtw*=tree.scaleFactor_ZVERTEX\n",
        "    evwt=evtw\n",
        "    \n",
        "    bar.numerator+=1\n",
        "    i=bar.numerator\n",
        "    if (not fullAnalysis) and (i>nEvents/100) :break\n",
        "    if int(nSplits*i/nEvents)!=int(nSplits*(i-1)/nEvents):\n",
        "        print(bar)\n",
        "    MC_cutflow.Fill(0,evwt)\n",
        "    \n",
        "    #First cut: Good vertex\n",
        "    good_vtx = tree.hasGoodVertex\n",
        "    ##Discard all events without a good vertex\n",
        "    if not good_vtx: continue\n",
        "    cut1+=1\n",
        "    MC_cutflow.Fill(1,evwt)\n",
        "    \n",
        "    \n",
        "    #Second cut: Trigger\n",
        "    e_trig = tree.trigE\n",
        "    mu_trig = tree.trigM\n",
        "    \n",
        "    ##Discard all events without a e_trig and a mu_trig\n",
        "    if ((not e_trig) and (not mu_trig)) : continue\n",
        "    cut2+=1\n",
        "    MC_cutflow.Fill(2,evwt)\n",
        "    \n",
        "    ##Preselection of good leptons                                                                                \n",
        "    n_mu=0\n",
        "    n_el=0\n",
        "    n_lep=0\n",
        "    index_lep = []\n",
        "    lep_pt = tree.lep_pt\n",
        "    lep_phi = tree.lep_phi\n",
        "    lep_eta = tree.lep_eta\n",
        "    lep_E = tree.lep_E\n",
        "    lep_ptcone30=tree.lep_ptcone30\n",
        "    lep_etcone20=tree.lep_etcone20\n",
        "    lep_n = tree.lep_n\n",
        "    lep_type =tree.lep_type\n",
        "    \n",
        "    for i in range(lep_n):\n",
        "        if( lep_pt[i] < 24e3): continue \n",
        "        if( lep_ptcone30[i]/lep_pt[i] > 0.15 ): continue\n",
        "        if( lep_etcone20[i]/lep_pt[i] > 0.15 ): continue  \n",
        "        if( lep_type[i]==13 and TMath.Abs(lep_eta[i]) < 2.5 ):  n_mu+=1\n",
        "        #To complete: Add electrons and extract the index for the good lepton\n",
        "        eta_lep=TMath.Abs(lep_eta[i])\n",
        "        good_electron = eta_lep < 2.47 and (eta_lep < 1.37 or eta_lep >1.52 )\n",
        "        if( lep_type[i]==11 and good_electron ):  n_el+=1\n",
        "        index_lep.append(i)\n",
        "        n_lep+=1\n",
        "    \n",
        "    #Select events with only 1 good lepton and fill the cutflow histogram \n",
        "    #Example:\n",
        "    #Third cut (one good lepton):\n",
        "    if not n_lep==1 : continue\n",
        "    cut3+=1\n",
        "    MC_cutflow.Fill(3,evwt)\n",
        "    \n",
        "    #Fourth cut: At least 4 jets\n",
        "    ##Number of jets distribution\n",
        "    jet_n=tree.jet_n\n",
        "    hist_njets.Fill(jet_n)\n",
        "    if(jet_n<4): continue\n",
        "    MC_cutflow.Fill(4,evwt)\n",
        "    cut4+=1\n",
        "    \n",
        "    #Searching good jets\n",
        "    n_jets=0\n",
        "    n_bjets=0\n",
        "    index_jet = []\n",
        "    index_bjet = []\n",
        "    jet_pt=tree.jet_pt\n",
        "    jet_eta=tree.jet_eta\n",
        "    jet_mv1=tree.jet_MV1\n",
        "    jet_jvf=tree.jet_jvf\n",
        "    for j in range(jet_n):\n",
        "        if(jet_pt[j] < 25e3): continue\n",
        "        #To complete: apply jet cuts to find the good jets\n",
        "        if(jet_eta[j] > 2.5): continue\n",
        "        if(jet_pt[j] < 50e3 )and(jet_jvf[j]<0.59)and(jet_eta[j] > 2.4): continue\n",
        "        n_jets+=1\n",
        "        #cut on 0.7892 MV1 and count the number of b-jets\n",
        "        if(jet_mv1[j]>=0.7892): \n",
        "            n_bjets+=1\n",
        "            index_bjet.append(j)\n",
        "        else: \n",
        "            index_jet.append(j)\n",
        "    #Fifth cut: At least 4 good jets\n",
        "    if(n_jets < 4): continue\n",
        "    MC_cutflow.Fill(5,evwt)\n",
        "    cut5+=1\n",
        "    \n",
        "    #Sixth cut: At least 2 good bjets\n",
        "    if(n_bjets<2): continue\n",
        "    MC_cutflow.Fill(6,evwt)\n",
        "    cut6+=1\n",
        "    \n",
        "    #Seventh cut: MET > 30 GeV\n",
        "    MET=tree.met_et\n",
        "    if(MET<30e3): continue\n",
        "    MC_cutflow.Fill(7,evwt)\n",
        "    cut7+=1\n",
        "    \n",
        "    ##TLorentzVector definitions\n",
        "    Lepton  = TLorentzVector()\n",
        "    MeT  = TLorentzVector()\n",
        "    ##To complete: Lorentz vectors for the lepton and MET. Use SetPtEtaPhiE().\n",
        "    Lepton.SetPtEtaPhiE(lep_pt[0],lep_eta[0],lep_phi[0],lep_E[0])\n",
        "    MeT.SetPtEtaPhiE(MET,0,tree.met_phi,MET)\n",
        "        \n",
        "    ##Calculation of the mTW using TLorentz vectors\n",
        "    mTW = TMath.Sqrt(2.*Lepton.Pt()*MeT.Et()*(1.-cos(Lepton.DeltaPhi(MeT))))\n",
        "    \n",
        "    ##Eight cut: mTW > 30 GeV\n",
        "    if(mTW<30e3): continue\n",
        "    MC_cutflow.Fill(8,evwt)\n",
        "    cut8+=1\n",
        "    \n",
        "    \n",
        "    \n",
        "    MC_hist_Met.Fill(MeT.Et(),evwt)\n",
        "    \n",
        "    ##hist lepton\n",
        "    MC_pt_lead_lept.Fill(lep_pt[index_lep[0]])\n",
        "    MC_eta_lead_lept.Fill(lep_eta[index_lep[0]])\n",
        "    \n",
        "    \n",
        "    ##hist lead jet\n",
        "    pt_l_j=0.0\n",
        "    index_lead_jet=0\n",
        "    for i in range(len(index_jet)):\n",
        "        if(jet_pt[index_jet[i]]>pt_l_j):\n",
        "            pt_l_j=jet_pt[index_jet[i]]\n",
        "            index_lead_jet=index_jet[i]\n",
        "        else : \n",
        "            pass\n",
        "    MC_pt_lead_jet.Fill(jet_pt[index_lead_jet],evwt)\n",
        "    MC_eta_lead_jet.Fill(jet_eta[index_lead_jet],evwt)\n",
        "\n",
        "    ##hist lead bjet\n",
        "    pt_l_bj=0.0\n",
        "    index_lead_bjet=0\n",
        "    for i in range(len(index_bjet)):\n",
        "        if(jet_pt[index_bjet[i]]>pt_l_j):\n",
        "            pt_l_bj=jet_pt[index_bjet[i]]\n",
        "            index_lead_bjet=index_bjet[i]\n",
        "        else : \n",
        "            pass\n",
        "    MC_pt_lead_bjet.Fill (jet_pt [index_lead_bjet],evwt)\n",
        "    MC_eta_lead_bjet.Fill(jet_eta[index_lead_bjet],evwt)\n",
        "    \n",
        "    ##MC_pt_slead_jet\n",
        "    ##MC_eta_slead_jet\n",
        "\n",
        "    ##MC_pt_slead_bjet\n",
        "    ##MC_eta_slead_bjet\n",
        "MC_lum=0.072212854*float(nEvents)/137.29749\n",
        "print(\"Done!\")\n",
        "print(\"All events:\" + str(nEvents))\n",
        "print(\"Cut1:\" + str(cut1))\n",
        "print(\"Cut2:\" + str(cut2))\n",
        "print(\"Cut3:\" + str(cut3))\n",
        "print(\"Cut4:\" + str(cut4))\n",
        "print(\"Cut5:\" + str(cut5))\n",
        "print(\"Cut6:\" + str(cut6))\n",
        "print(\"Cut7:\" + str(cut7))\n",
        "print(\"Cut8:\" + str(cut8))"
      ]
    },
    {
      "cell_type": "markdown",
      "metadata": {
        "id": "COmpO6VAoza9"
      },
      "source": [
        "Draw"
      ]
    },
    {
      "cell_type": "code",
      "execution_count": null,
      "metadata": {
        "id": "BTLpo9f3ttmz"
      },
      "outputs": [],
      "source": [
        "canvas = TCanvas(\"Canvas\",\"\",1240,720);\n",
        "canvas.SetGrid()"
      ]
    },
    {
      "cell_type": "code",
      "execution_count": null,
      "metadata": {
        "id": "b_SuokV6ttmz"
      },
      "outputs": [],
      "source": [
        "weight=lum/MC_lum"
      ]
    },
    {
      "cell_type": "code",
      "execution_count": null,
      "metadata": {
        "id": "gEIRBEpyttmz"
      },
      "outputs": [],
      "source": [
        "hist_Met.Draw(\"hist\")\n",
        "MC_hist_Met.Scale(weight)\n",
        "MC_hist_Met.SetLineColor(3)\n",
        "MC_hist_Met.Draw(\"histsame\")\n",
        "canvas.Draw()"
      ]
    },
    {
      "cell_type": "code",
      "execution_count": null,
      "metadata": {
        "id": "G2zXJDrottmz"
      },
      "outputs": [],
      "source": [
        "pt_lead_lept.Draw(\"hist\")\n",
        "MC_pt_lead_lept.Scale(weight)\n",
        "MC_pt_lead_lept.SetLineColor(3)\n",
        "MC_pt_lead_lept.Draw(\"histsame\")\n",
        "canvas.Draw()"
      ]
    },
    {
      "cell_type": "code",
      "execution_count": null,
      "metadata": {
        "id": "VCFFlSuSttmz"
      },
      "outputs": [],
      "source": [
        "eta_lead_lept.Draw(\"hist\")\n",
        "MC_eta_lead_lept.Scale(weight)\n",
        "MC_eta_lead_lept.SetLineColor(3)\n",
        "MC_eta_lead_lept.Draw(\"histsame\")\n",
        "canvas.Draw()"
      ]
    },
    {
      "cell_type": "code",
      "execution_count": null,
      "metadata": {
        "id": "WqJODOC2ttm0"
      },
      "outputs": [],
      "source": [
        "pt_lead_jet.Draw(\"hist\")\n",
        "MC_pt_lead_jet.Scale(weight)\n",
        "MC_pt_lead_jet.SetLineColor(3)\n",
        "MC_pt_lead_jet.Draw(\"histsame\")\n",
        "canvas.Draw()"
      ]
    },
    {
      "cell_type": "code",
      "execution_count": null,
      "metadata": {
        "id": "DNl6YrtGttm0"
      },
      "outputs": [],
      "source": [
        "eta_lead_jet.Draw(\"hist\")\n",
        "MC_eta_lead_jet.Scale(weight)\n",
        "MC_eta_lead_jet.SetLineColor(3)\n",
        "MC_eta_lead_jet.Draw(\"histsame\")\n",
        "canvas.Draw()"
      ]
    },
    {
      "cell_type": "code",
      "execution_count": null,
      "metadata": {
        "id": "z_BItZScttm0"
      },
      "outputs": [],
      "source": [
        "pt_lead_bjet.Draw(\"hist\")\n",
        "MC_pt_lead_bjet.Scale(weight)\n",
        "MC_pt_lead_bjet.SetLineColor(3)\n",
        "MC_pt_lead_bjet.Draw(\"histsame\")\n",
        "canvas.Draw()"
      ]
    },
    {
      "cell_type": "code",
      "execution_count": null,
      "metadata": {
        "id": "fHhYis-Httm0"
      },
      "outputs": [],
      "source": [
        "eta_lead_bjet.Draw(\"hist\")\n",
        "MC_eta_lead_bjet.Scale(weight)\n",
        "MC_eta_lead_bjet.SetLineColor(3)\n",
        "MC_eta_lead_bjet.Draw(\"histsame\")\n",
        "canvas.Draw()"
      ]
    }
  ],
  "metadata": {
    "colab": {
      "collapsed_sections": [],
      "name": "04_Data_vs_MC.ipynb",
      "provenance": [],
      "include_colab_link": true
    },
    "kernelspec": {
      "display_name": "Python 3 (ipykernel)",
      "language": "python",
      "name": "python3"
    },
    "language_info": {
      "codemirror_mode": {
        "name": "ipython",
        "version": 3
      },
      "file_extension": ".py",
      "mimetype": "text/x-python",
      "name": "python",
      "nbconvert_exporter": "python",
      "pygments_lexer": "ipython3",
      "version": "3.8.10"
    }
  },
  "nbformat": 4,
  "nbformat_minor": 0
}