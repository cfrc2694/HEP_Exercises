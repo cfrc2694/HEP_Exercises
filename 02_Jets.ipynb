{
  "cells": [
    {
      "cell_type": "markdown",
      "metadata": {
        "id": "view-in-github",
        "colab_type": "text"
      },
      "source": [
        "<a href=\"https://colab.research.google.com/github/cfrc2694/HEP_Exercises/blob/main/02_Jets.ipynb\" target=\"_parent\"><img src=\"https://colab.research.google.com/assets/colab-badge.svg\" alt=\"Open In Colab\"/></a>"
      ]
    },
    {
      "cell_type": "markdown",
      "metadata": {
        "id": "6aPRUEFPIQU6"
      },
      "source": [
        "# An introductional notebook to HEP analysis in pyroot\n",
        "\n",
        "<p>In this notebook you can find an easy set of commands that show some basic computing techniques commonly used in High Energy Physics (HEP) analyzes.</p>\n",
        "\n",
        "<p>It also shows how to create an histogram, fill it and draw it. Moreover it is an introduction to [ROOT](https://root.cern.ch/) too. The final output is a plot with the number of leptons.</p>\n",
        "\n",
        "Based on ATLAS opendata notebooks (http://opendata.atlas.cern/release/2020/documentation/notebooks/intro.html)\n"
      ]
    },
    {
      "cell_type": "markdown",
      "metadata": {
        "id": "eU7_yCiOIQU8"
      },
      "source": [
        "The library used is [ROOT](https://root.cern.ch/), a scientific data analysis software framework that provides a large set of functionalities needed to deal with big data processing, statistical analysis, visualisation and storage."
      ]
    },
    {
      "cell_type": "markdown",
      "metadata": {
        "id": "Bj9SvtcOIQU9"
      },
      "source": [
        "<p>At first we have to include several helpers that will support our analysis:</p>"
      ]
    },
    {
      "cell_type": "code",
      "execution_count": 1,
      "metadata": {
        "colab": {
          "base_uri": "https://localhost:8080/"
        },
        "id": "GVB_r2ihIQU9",
        "outputId": "36642da2-addd-497e-d254-b90c5f273e92"
      },
      "outputs": [
        {
          "output_type": "stream",
          "name": "stdout",
          "text": [
            "libxext-dev is already the newest version (2:1.3.3-1).\n",
            "libxft-dev is already the newest version (2.3.2-1).\n",
            "libxpm-dev is already the newest version (1:3.5.12-1).\n",
            "subversion is already the newest version (1.9.7-4ubuntu1).\n",
            "binutils is already the newest version (2.30-21ubuntu1~18.04.7).\n",
            "cmake is already the newest version (3.10.2-1ubuntu2.18.04.2).\n",
            "dpkg-dev is already the newest version (1.19.0.5ubuntu2.3).\n",
            "g++ is already the newest version (4:7.4.0-1ubuntu2.3).\n",
            "gcc is already the newest version (4:7.4.0-1ubuntu2.3).\n",
            "gfortran is already the newest version (4:7.4.0-1ubuntu2.3).\n",
            "git is already the newest version (1:2.17.1-1ubuntu0.9).\n",
            "libx11-dev is already the newest version (2:1.6.4-3ubuntu0.4).\n",
            "python2.7 is already the newest version (2.7.17-1~18.04ubuntu1.6).\n",
            "tar is already the newest version (1.29b-2ubuntu0.2).\n",
            "0 upgraded, 0 newly installed, 0 to remove and 32 not upgraded.\n",
            "Downloading...\n",
            "From: https://drive.google.com/uc?id=1bWgcTAMG7IoyQASWwrrOQrGe4haUAo9t\n",
            "To: /content/root_for_colab.tar.gz\n",
            "100% 1.57G/1.57G [00:10<00:00, 146MB/s]\n",
            "Welcome to JupyROOT 6.25/01\n"
          ]
        }
      ],
      "source": [
        "import os\n",
        "\n",
        "try:\n",
        "  import google.colab\n",
        "  IN_COLAB = True\n",
        "except:\n",
        "  IN_COLAB = False\n",
        "\n",
        "if (IN_COLAB):\n",
        "  !apt -qq install git dpkg-dev cmake g++ gcc binutils libx11-dev libxpm-dev libxft-dev libxext-dev tar gfortran subversion python2.7\n",
        "  if (os.path.isdir(\"/content/root\")):\n",
        "    pass\n",
        "  else:\n",
        "    !gdown https://drive.google.com/uc?id=1bWgcTAMG7IoyQASWwrrOQrGe4haUAo9t\n",
        "    !cd /; tar xzf /content/root_for_colab.tar.gz\n",
        "    !rm -rf root_for_colab.tar.gz*\n",
        "  import sys\n",
        "  sys.path.append(\"/content/root/build/\")\n",
        "  sys.path.append(\"/content/root/build/bin/\")\n",
        "  sys.path.append(\"/content/root/build/include/\")\n",
        "  sys.path.append(\"/content/root/build/lib/\")\n",
        "\n",
        "import ROOT\n",
        "from ROOT import *"
      ]
    },
    {
      "cell_type": "markdown",
      "metadata": {
        "id": "v2YevjrdIQU9"
      },
      "source": [
        "Next we have to open the data that we want to analyze. As described above the data is stored in a _*.root_ file. This is a root file containing tracks and calorimeter clusters"
      ]
    },
    {
      "cell_type": "code",
      "execution_count": 2,
      "metadata": {
        "id": "HEX1dAl1IQU-",
        "colab": {
          "base_uri": "https://localhost:8080/"
        },
        "outputId": "3221f0f7-fb53-44da-bb34-e32555027911"
      },
      "outputs": [
        {
          "output_type": "stream",
          "name": "stdout",
          "text": [
            "--2021-12-11 21:41:42--  https://csandova.web.cern.ch/csandova/HEP-Ex-Course/Code/TracksClusters/Tracks_Clusters.root\n",
            "Resolving csandova.web.cern.ch (csandova.web.cern.ch)... 188.185.124.106, 2001:1458:d00:4a::100:f0\n",
            "Connecting to csandova.web.cern.ch (csandova.web.cern.ch)|188.185.124.106|:443... connected.\n",
            "HTTP request sent, awaiting response... 200 OK\n",
            "Length: 2227206546 (2.1G)\n",
            "Saving to: ‘Tracks_Clusters.root’\n",
            "\n",
            "Tracks_Clusters.roo 100%[===================>]   2.07G  17.8MB/s    in 2m 1s   \n",
            "\n",
            "2021-12-11 21:43:44 (17.6 MB/s) - ‘Tracks_Clusters.root’ saved [2227206546/2227206546]\n",
            "\n"
          ]
        }
      ],
      "source": [
        "file_name='Tracks_Clusters.root'\n",
        "#f = ROOT.TFile.Open(\"https://csandova.web.cern.ch/csandova/HEP-Ex-Course/Code/TracksClusters/Tracks_Clusters.root\")\n",
        "if (os.path.isfile(file_name)):\n",
        "    pass\n",
        "else :\n",
        "    !wget https://csandova.web.cern.ch/csandova/HEP-Ex-Course/Code/TracksClusters/Tracks_Clusters.root -O Tracks_Clusters.root   \n",
        "f = TFile.Open(file_name)"
      ]
    },
    {
      "cell_type": "markdown",
      "metadata": {
        "id": "N7AA0nBFIQU-"
      },
      "source": [
        "The next step is to define a tree named _tree_ to get the data out of the _*.root_ file. The tree in this root file is called \"JetRecoTree\". We will then print the contents of the tree to find the names of the variables. "
      ]
    },
    {
      "cell_type": "code",
      "execution_count": 3,
      "metadata": {
        "id": "lNzUXGjFIQU-",
        "colab": {
          "base_uri": "https://localhost:8080/"
        },
        "outputId": "b89d4002-79f5-4750-a454-fc1d9d4e98dd"
      },
      "outputs": [
        {
          "output_type": "stream",
          "name": "stdout",
          "text": [
            "******************************************************************************\n",
            "*Tree    :JetRecoTree: JetRecoTree                                            *\n",
            "*Entries :   102900 : Total =      3334789039 bytes  File  Size = 2227126936 *\n",
            "*        :          : Tree compression factor =   1.50                       *\n",
            "******************************************************************************\n",
            "*Br    0 :EventNumber : EventNumber/l                                        *\n",
            "*Entries :   102900 : Total  Size=     836872 bytes  File Size  =     448624 *\n",
            "*Baskets :      127 : Basket Size=       7219 bytes  Compression=   1.86     *\n",
            "*............................................................................*\n",
            "*Br    1 :RunNumber : RunNumber/l                                            *\n",
            "*Entries :   102900 : Total  Size=     836610 bytes  File Size  =      20416 *\n",
            "*Baskets :      127 : Basket Size=       7219 bytes  Compression=  40.84     *\n",
            "*............................................................................*\n",
            "*Br    2 :EventWeight : EventWeight/f                                        *\n",
            "*Entries :   102900 : Total  Size=     418649 bytes  File Size  =     402832 *\n",
            "*Baskets :       64 : Basket Size=       7219 bytes  Compression=   1.04     *\n",
            "*............................................................................*\n",
            "*Br    3 :mu_average : mu_average/f                                          *\n",
            "*Entries :   102900 : Total  Size=     418581 bytes  File Size  =     168998 *\n",
            "*Baskets :       64 : Basket Size=       7219 bytes  Compression=   2.47     *\n",
            "*............................................................................*\n",
            "*Br    4 :mu_actual : mu_actual/f                                            *\n",
            "*Entries :   102900 : Total  Size=     418513 bytes  File Size  =     168934 *\n",
            "*Baskets :       64 : Basket Size=       7219 bytes  Compression=   2.47     *\n",
            "*............................................................................*\n",
            "*Br    5 :NPV       : NPV/i                                                  *\n",
            "*Entries :   102900 : Total  Size=     418105 bytes  File Size  =     121543 *\n",
            "*Baskets :       64 : Basket Size=       7219 bytes  Compression=   3.43     *\n",
            "*............................................................................*\n",
            "*Br    6 :Tracks_pt : vector<float>                                          *\n",
            "*Entries :   102900 : Total  Size=  262928429 bytes  File Size  =  232265540 *\n",
            "*Baskets :      128 : Basket Size=    3622912 bytes  Compression=   1.13     *\n",
            "*............................................................................*\n",
            "*Br    7 :Tracks_eta : vector<float>                                         *\n",
            "*Entries :   102900 : Total  Size=  262928561 bytes  File Size  =  243525928 *\n",
            "*Baskets :      128 : Basket Size=    3622912 bytes  Compression=   1.08     *\n",
            "*............................................................................*\n",
            "*Br    8 :Tracks_phi : vector<float>                                         *\n",
            "*Entries :   102900 : Total  Size=  262928561 bytes  File Size  =  243555112 *\n",
            "*Baskets :      128 : Basket Size=    3622912 bytes  Compression=   1.08     *\n",
            "*............................................................................*\n",
            "*Br    9 :Tracks_m  : vector<float>                                          *\n",
            "*Entries :   102900 : Total  Size=  262928297 bytes  File Size  =  128758959 *\n",
            "*Baskets :      128 : Basket Size=    3622912 bytes  Compression=   2.04     *\n",
            "*............................................................................*\n",
            "*Br   10 :Tracks_vtx : vector<int>                                           *\n",
            "*Entries :   102900 : Total  Size=  262928561 bytes  File Size  =   58998852 *\n",
            "*Baskets :      128 : Basket Size=    3622912 bytes  Compression=   4.46     *\n",
            "*............................................................................*\n",
            "*Br   11 :Clusters_pt : vector<float>                                        *\n",
            "*Entries :   102900 : Total  Size=  244379153 bytes  File Size  =  221895864 *\n",
            "*Baskets :      128 : Basket Size=    3622912 bytes  Compression=   1.10     *\n",
            "*............................................................................*\n",
            "*Br   12 :Clusters_eta : vector<float>                                       *\n",
            "*Entries :   102900 : Total  Size=  244379285 bytes  File Size  =  226601845 *\n",
            "*Baskets :      128 : Basket Size=    3622912 bytes  Compression=   1.08     *\n",
            "*............................................................................*\n",
            "*Br   13 :Clusters_phi : vector<float>                                       *\n",
            "*Entries :   102900 : Total  Size=  244379285 bytes  File Size  =  225357711 *\n",
            "*Baskets :      128 : Basket Size=    3622912 bytes  Compression=   1.08     *\n",
            "*............................................................................*\n",
            "*Br   14 :Clusters_m : vector<float>                                         *\n",
            "*Entries :   102900 : Total  Size=  244379021 bytes  File Size  =    2688240 *\n",
            "*Baskets :      128 : Basket Size=    3622912 bytes  Compression=  90.91     *\n",
            "*............................................................................*\n",
            "*Br   15 :Particles_pt : vector<float>                                       *\n",
            "*Entries :   102900 : Total  Size=  181674395 bytes  File Size  =  167488975 *\n",
            "*Baskets :       65 : Basket Size=    3622912 bytes  Compression=   1.08     *\n",
            "*............................................................................*\n",
            "*Br   16 :Particles_eta : vector<float>                                      *\n",
            "*Entries :   102900 : Total  Size=  181674464 bytes  File Size  =  168944905 *\n",
            "*Baskets :       65 : Basket Size=    3622912 bytes  Compression=   1.08     *\n",
            "*............................................................................*\n",
            "*Br   17 :Particles_phi : vector<float>                                      *\n",
            "*Entries :   102900 : Total  Size=  181674464 bytes  File Size  =  168168066 *\n",
            "*Baskets :       65 : Basket Size=    3622912 bytes  Compression=   1.08     *\n",
            "*............................................................................*\n",
            "*Br   18 :Particles_m : vector<float>                                        *\n",
            "*Entries :   102900 : Total  Size=  181674326 bytes  File Size  =   21893813 *\n",
            "*Baskets :       65 : Basket Size=    3622912 bytes  Compression=   8.30     *\n",
            "*............................................................................*\n",
            "*Br   19 :Particles_pdgID : vector<int>                                      *\n",
            "*Entries :   102900 : Total  Size=  181674602 bytes  File Size  =   26491397 *\n",
            "*Baskets :       65 : Basket Size=    3622912 bytes  Compression=   6.86     *\n",
            "*............................................................................*\n",
            "*Br   20 :RecoJets_R4_pt : vector<float>                                     *\n",
            "*Entries :   102900 : Total  Size=    8399881 bytes  File Size  =    6970572 *\n",
            "*Baskets :       65 : Basket Size=     254464 bytes  Compression=   1.20     *\n",
            "*............................................................................*\n",
            "*Br   21 :RecoJets_R4_eta : vector<float>                                    *\n",
            "*Entries :   102900 : Total  Size=    8399950 bytes  File Size  =    7257663 *\n",
            "*Baskets :       65 : Basket Size=     254464 bytes  Compression=   1.16     *\n",
            "*............................................................................*\n",
            "*Br   22 :RecoJets_R4_phi : vector<float>                                    *\n",
            "*Entries :   102900 : Total  Size=    8399950 bytes  File Size  =    7235997 *\n",
            "*Baskets :       65 : Basket Size=     254464 bytes  Compression=   1.16     *\n",
            "*............................................................................*\n",
            "*Br   23 :RecoJets_R4_m : vector<float>                                      *\n",
            "*Entries :   102900 : Total  Size=    8399812 bytes  File Size  =    6985643 *\n",
            "*Baskets :       65 : Basket Size=     254464 bytes  Compression=   1.20     *\n",
            "*............................................................................*\n",
            "*Br   24 :RecoJets_R4_jvf : vector<float>                                    *\n",
            "*Entries :   102900 : Total  Size=    8399950 bytes  File Size  =    5684124 *\n",
            "*Baskets :       65 : Basket Size=     254464 bytes  Compression=   1.48     *\n",
            "*............................................................................*\n",
            "*Br   25 :TrackJets_R4_pt : vector<float>                                    *\n",
            "*Entries :   102900 : Total  Size=    3020029 bytes  File Size  =    1978875 *\n",
            "*Baskets :      128 : Basket Size=      41984 bytes  Compression=   1.52     *\n",
            "*............................................................................*\n",
            "*Br   26 :TrackJets_R4_eta : vector<float>                                   *\n",
            "*Entries :   102900 : Total  Size=    3020161 bytes  File Size  =    2013703 *\n",
            "*Baskets :      128 : Basket Size=      41984 bytes  Compression=   1.50     *\n",
            "*............................................................................*\n",
            "*Br   27 :TrackJets_R4_phi : vector<float>                                   *\n",
            "*Entries :   102900 : Total  Size=    3020161 bytes  File Size  =    2010836 *\n",
            "*Baskets :      128 : Basket Size=      41984 bytes  Compression=   1.50     *\n",
            "*............................................................................*\n",
            "*Br   28 :TrackJets_R4_m : vector<float>                                     *\n",
            "*Entries :   102900 : Total  Size=    3019897 bytes  File Size  =    1972166 *\n",
            "*Baskets :      128 : Basket Size=      41984 bytes  Compression=   1.53     *\n",
            "*............................................................................*\n",
            "*Br   29 :RecoJets_R10_pt : vector<float>                                    *\n",
            "*Entries :   102900 : Total  Size=    2251013 bytes  File Size  =    1181658 *\n",
            "*Baskets :      128 : Basket Size=      32768 bytes  Compression=   1.90     *\n",
            "*............................................................................*\n",
            "*Br   30 :RecoJets_R10_eta : vector<float>                                   *\n",
            "*Entries :   102900 : Total  Size=    2251145 bytes  File Size  =    1226587 *\n",
            "*Baskets :      128 : Basket Size=      32768 bytes  Compression=   1.83     *\n",
            "*............................................................................*\n",
            "*Br   31 :RecoJets_R10_phi : vector<float>                                   *\n",
            "*Entries :   102900 : Total  Size=    2251145 bytes  File Size  =    1223360 *\n",
            "*Baskets :      128 : Basket Size=      32768 bytes  Compression=   1.84     *\n",
            "*............................................................................*\n",
            "*Br   32 :RecoJets_R10_m : vector<float>                                     *\n",
            "*Entries :   102900 : Total  Size=    2250881 bytes  File Size  =    1181924 *\n",
            "*Baskets :      128 : Basket Size=      32768 bytes  Compression=   1.90     *\n",
            "*............................................................................*\n",
            "*Br   33 :RecoJets_R10_D2beta1 : vector<float>                               *\n",
            "*Entries :   102900 : Total  Size=    2251673 bytes  File Size  =    1189408 *\n",
            "*Baskets :      128 : Basket Size=      32768 bytes  Compression=   1.89     *\n",
            "*............................................................................*\n",
            "*Br   34 :RecoJets_R10_tau32wta : vector<float>                              *\n",
            "*Entries :   102900 : Total  Size=    2251805 bytes  File Size  =    1137893 *\n",
            "*Baskets :      128 : Basket Size=      32768 bytes  Compression=   1.98     *\n",
            "*............................................................................*\n",
            "*Br   35 :RecoJets_R10_Trimmed_pt : vector<float>                            *\n",
            "*Entries :   102900 : Total  Size=    2252069 bytes  File Size  =    1193515 *\n",
            "*Baskets :      128 : Basket Size=      32768 bytes  Compression=   1.88     *\n",
            "*............................................................................*\n",
            "*Br   36 :RecoJets_R10_Trimmed_eta : vector<float>                           *\n",
            "*Entries :   102900 : Total  Size=    2252201 bytes  File Size  =    1227822 *\n",
            "*Baskets :      128 : Basket Size=      32768 bytes  Compression=   1.83     *\n",
            "*............................................................................*\n",
            "*Br   37 :RecoJets_R10_Trimmed_phi : vector<float>                           *\n",
            "*Entries :   102900 : Total  Size=    2252201 bytes  File Size  =    1224259 *\n",
            "*Baskets :      128 : Basket Size=      32768 bytes  Compression=   1.84     *\n",
            "*............................................................................*\n",
            "*Br   38 :RecoJets_R10_Trimmed_m : vector<float>                             *\n",
            "*Entries :   102900 : Total  Size=    2251937 bytes  File Size  =    1201169 *\n",
            "*Baskets :      128 : Basket Size=      32768 bytes  Compression=   1.87     *\n",
            "*............................................................................*\n",
            "*Br   39 :RecoJets_R10_Trimmed_D2beta1 : vector<float>                       *\n",
            "*Entries :   102900 : Total  Size=    2252729 bytes  File Size  =    1186517 *\n",
            "*Baskets :      128 : Basket Size=      32768 bytes  Compression=   1.90     *\n",
            "*............................................................................*\n",
            "*Br   40 :RecoJets_R10_Trimmed_tau32wta : vector<float>                      *\n",
            "*Entries :   102900 : Total  Size=    2252861 bytes  File Size  =    1165565 *\n",
            "*Baskets :      128 : Basket Size=      32768 bytes  Compression=   1.93     *\n",
            "*............................................................................*\n",
            "*Br   41 :TruthJets_R4_pt : vector<float>                                    *\n",
            "*Entries :   102900 : Total  Size=    5663442 bytes  File Size  =    4523590 *\n",
            "*Baskets :       65 : Basket Size=     120832 bytes  Compression=   1.25     *\n",
            "*............................................................................*\n",
            "*Br   42 :TruthJets_R4_eta : vector<float>                                   *\n",
            "*Entries :   102900 : Total  Size=    5663511 bytes  File Size  =    4595498 *\n",
            "*Baskets :       65 : Basket Size=     120832 bytes  Compression=   1.23     *\n",
            "*............................................................................*\n",
            "*Br   43 :TruthJets_R4_phi : vector<float>                                   *\n",
            "*Entries :   102900 : Total  Size=    5663511 bytes  File Size  =    4570123 *\n",
            "*Baskets :       65 : Basket Size=     120832 bytes  Compression=   1.24     *\n",
            "*............................................................................*\n",
            "*Br   44 :TruthJets_R4_m : vector<float>                                     *\n",
            "*Entries :   102900 : Total  Size=    5663373 bytes  File Size  =    4494532 *\n",
            "*Baskets :       65 : Basket Size=     120832 bytes  Compression=   1.26     *\n",
            "*............................................................................*\n",
            "*Br   45 :TruthJets_R10_pt : vector<float>                                   *\n",
            "*Entries :   102900 : Total  Size=    2261873 bytes  File Size  =    1196555 *\n",
            "*Baskets :      128 : Basket Size=      32256 bytes  Compression=   1.89     *\n",
            "*............................................................................*\n",
            "*Br   46 :TruthJets_R10_eta : vector<float>                                  *\n",
            "*Entries :   102900 : Total  Size=    2262005 bytes  File Size  =    1236630 *\n",
            "*Baskets :      128 : Basket Size=      32256 bytes  Compression=   1.83     *\n",
            "*............................................................................*\n",
            "*Br   47 :TruthJets_R10_phi : vector<float>                                  *\n",
            "*Entries :   102900 : Total  Size=    2262005 bytes  File Size  =    1232418 *\n",
            "*Baskets :      128 : Basket Size=      32256 bytes  Compression=   1.83     *\n",
            "*............................................................................*\n",
            "*Br   48 :TruthJets_R10_m : vector<float>                                    *\n",
            "*Entries :   102900 : Total  Size=    2261741 bytes  File Size  =    1198650 *\n",
            "*Baskets :      128 : Basket Size=      32256 bytes  Compression=   1.88     *\n",
            "*............................................................................*\n",
            "*Br   49 :TruthJets_R10_D2beta1 : vector<float>                              *\n",
            "*Entries :   102900 : Total  Size=    2262533 bytes  File Size  =    1208086 *\n",
            "*Baskets :      128 : Basket Size=      32256 bytes  Compression=   1.87     *\n",
            "*............................................................................*\n",
            "*Br   50 :TruthJets_R10_tau32wta : vector<float>                             *\n",
            "*Entries :   102900 : Total  Size=    2262665 bytes  File Size  =    1151969 *\n",
            "*Baskets :      128 : Basket Size=      32256 bytes  Compression=   1.96     *\n",
            "*............................................................................*\n",
            "*Br   51 :TruthJets_R10_Trimmed_pt : vector<float>                           *\n",
            "*Entries :   102900 : Total  Size=    2262929 bytes  File Size  =    1200297 *\n",
            "*Baskets :      128 : Basket Size=      32256 bytes  Compression=   1.88     *\n",
            "*............................................................................*\n",
            "*Br   52 :TruthJets_R10_Trimmed_eta : vector<float>                          *\n",
            "*Entries :   102900 : Total  Size=    2263061 bytes  File Size  =    1237632 *\n",
            "*Baskets :      128 : Basket Size=      32256 bytes  Compression=   1.83     *\n",
            "*............................................................................*\n",
            "*Br   53 :TruthJets_R10_Trimmed_phi : vector<float>                          *\n",
            "*Entries :   102900 : Total  Size=    2263061 bytes  File Size  =    1233325 *\n",
            "*Baskets :      128 : Basket Size=      32256 bytes  Compression=   1.83     *\n",
            "*............................................................................*\n",
            "*Br   54 :TruthJets_R10_Trimmed_m : vector<float>                            *\n",
            "*Entries :   102900 : Total  Size=    2262797 bytes  File Size  =    1211653 *\n",
            "*Baskets :      128 : Basket Size=      32256 bytes  Compression=   1.87     *\n",
            "*............................................................................*\n",
            "*Br   55 :TruthJets_R10_Trimmed_D2beta1 : vector<float>                      *\n",
            "*Entries :   102900 : Total  Size=    2263589 bytes  File Size  =    1203277 *\n",
            "*Baskets :      128 : Basket Size=      32256 bytes  Compression=   1.88     *\n",
            "*............................................................................*\n",
            "*Br   56 :TruthJets_R10_Trimmed_tau32wta : vector<float>                     *\n",
            "*Entries :   102900 : Total  Size=    2263721 bytes  File Size  =    1159033 *\n",
            "*Baskets :      128 : Basket Size=      32256 bytes  Compression=   1.95     *\n",
            "*............................................................................*\n"
          ]
        }
      ],
      "source": [
        "tree = f.Get(\"JetRecoTree\")\n",
        "tree.Print()"
      ]
    },
    {
      "cell_type": "markdown",
      "metadata": {
        "id": "ns2RpnRVIQU_"
      },
      "source": [
        "The next step is to extract the varibles we want from the dataset. We will explore two jet types: \"Reco\" (reconstructed from the calorimeter) and \"Truth\"(particle level). Activate \"Event Weight\". Create Canvas"
      ]
    },
    {
      "cell_type": "code",
      "execution_count": 4,
      "metadata": {
        "id": "pU2sTKVdIQVA"
      },
      "outputs": [],
      "source": [
        "canvas = TCanvas(\"Canvas\",\" \",800,600)\n",
        "canvas.SetGrid()"
      ]
    },
    {
      "cell_type": "markdown",
      "metadata": {
        "id": "QH2KVF50IQVA"
      },
      "source": [
        "Create histograms: Leading jet pT and all jets pT "
      ]
    },
    {
      "cell_type": "code",
      "execution_count": 5,
      "metadata": {
        "id": "1-s4piX9IQVA"
      },
      "outputs": [],
      "source": [
        "hist_leadreco_pt = TH1F(\"Lead Reco-jet\",\"Leading jet pT; pT(GeV);Events\",50,10,200);\n",
        "hist_reco_pt = TH1F(\"Reco-jet\",\"Jet pT; pT(GeV);Events\",50,10,200);"
      ]
    },
    {
      "cell_type": "markdown",
      "metadata": {
        "id": "w23-JzVnIQVA"
      },
      "source": [
        "Loop and fill histograms"
      ]
    },
    {
      "cell_type": "code",
      "execution_count": 6,
      "metadata": {
        "id": "JvCaxhcTIQVA",
        "colab": {
          "base_uri": "https://localhost:8080/"
        },
        "outputId": "ac1ee0a5-4fd3-4f7f-f02e-165354f234f6"
      },
      "outputs": [
        {
          "output_type": "stream",
          "name": "stdout",
          "text": [
            "Done!\n"
          ]
        }
      ],
      "source": [
        "for event in tree:\n",
        "  evtw=tree.EventWeight\n",
        "  reco_R4_pt=tree.RecoJets_R4_pt\n",
        "  if(reco_R4_pt.size()>0):\n",
        "    hist_leadreco_pt.Fill(reco_R4_pt.at(0)/1000.,evtw)\n",
        "    for j in range(reco_R4_pt.size()):\n",
        "        hist_reco_pt.Fill(reco_R4_pt.at(j)/1000.,evtw)\n",
        "print(\"Done!\")"
      ]
    },
    {
      "cell_type": "markdown",
      "metadata": {
        "id": "4Ptz73aeIQVA"
      },
      "source": [
        "<p>Draw</p>"
      ]
    },
    {
      "cell_type": "code",
      "execution_count": 7,
      "metadata": {
        "id": "re-C_q6YIQVB",
        "scrolled": true,
        "colab": {
          "base_uri": "https://localhost:8080/",
          "height": 589
        },
        "outputId": "81e65dea-5ab7-410e-e008-0f57a390ecd3"
      },
      "outputs": [
        {
          "output_type": "display_data",
          "data": {
            "image/png": "[encoded data removed]",
            "text/plain": [
              "<IPython.core.display.Image object>"
            ]
          },
          "metadata": {}
        }
      ],
      "source": [
        "hist_reco_pt.SetMarkerStyle(20);\n",
        "hist_reco_pt.SetMarkerColor(kRed);\n",
        "hist_reco_pt.Draw(\"\");\n",
        "hist_leadreco_pt.SetMarkerStyle(21);\n",
        "hist_leadreco_pt.Draw(\"same\");\n",
        "canvas.SetLogy();\n",
        "canvas.Draw();"
      ]
    },
    {
      "cell_type": "markdown",
      "metadata": {
        "id": "sDFxMttBIQVB"
      },
      "source": [
        "<b>Excercises: \n",
        "    1. Compare the leading truth jet pT with the leading reco jet pT, with and without event weights.\n",
        "    2. Repeat for all jets pT.\n",
        "</b>"
      ]
    },
    {
      "cell_type": "markdown",
      "metadata": {
        "id": "AYAhRSV5IQVB"
      },
      "source": [
        "Now we will study the jets pileup dependence. Plot jet pt vs. pileup"
      ]
    },
    {
      "cell_type": "code",
      "execution_count": 8,
      "metadata": {
        "id": "ihgNrjqqRYBX"
      },
      "outputs": [],
      "source": [
        "canvas2 = TCanvas(\"Canvas2\",\"\",800,600)\n",
        "canvas2.SetGrid()\n",
        "hist_jetpt_npv = TH2F(\"Reco-jet pT vs. NPV\",\";NPV; jet pT (GeV)\",50,1,50, 20, 0, 200);\n",
        "prof_jetpt_npv = TProfile(\"Profile Reco-jet pT vs. NPV\",\";NPV; jet pT (GeV)\",50,1,50, 0, 200);"
      ]
    },
    {
      "cell_type": "markdown",
      "metadata": {
        "id": "qUhG-lPvIQVC"
      },
      "source": [
        "Fill the histograms: Make a cut to accept events with at least one jet and require the leading jet to have pT above 20 GeV"
      ]
    },
    {
      "cell_type": "code",
      "execution_count": 9,
      "metadata": {
        "id": "aXb2RNPfIQVC",
        "scrolled": true,
        "colab": {
          "base_uri": "https://localhost:8080/"
        },
        "outputId": "88f0766c-0f42-44c6-e365-66fb37266306"
      },
      "outputs": [
        {
          "output_type": "stream",
          "name": "stdout",
          "text": [
            "Done!\n"
          ]
        }
      ],
      "source": [
        "for event in tree:\n",
        "  evtw=tree.EventWeight\n",
        "  npv=tree.NPV\n",
        "  reco_R4_pt=tree.RecoJets_R4_pt\n",
        "  if(reco_R4_pt.size()!=0 and reco_R4_pt.at(0)>20e3):\n",
        "    for j in range(reco_R4_pt.size()):\n",
        "      hist_jetpt_npv.Fill(reco_R4_pt.at(j)/1000.,npv,evtw);\n",
        "      prof_jetpt_npv.Fill(reco_R4_pt.at(j)/1000.,npv,evtw);\n",
        "print(\"Done!\")"
      ]
    },
    {
      "cell_type": "code",
      "execution_count": 10,
      "metadata": {
        "id": "M4bzWriaIQVC",
        "colab": {
          "base_uri": "https://localhost:8080/",
          "height": 589
        },
        "outputId": "3a99962d-58f1-44f3-dfac-a2d9e191df0d"
      },
      "outputs": [
        {
          "output_type": "display_data",
          "data": {
            "image/png": "[encoded data removed]",
            "text/plain": [
              "<IPython.core.display.Image object>"
            ]
          },
          "metadata": {}
        }
      ],
      "source": [
        "hist_jetpt_npv.Draw(\"COL\")\n",
        "canvas2.Draw()"
      ]
    },
    {
      "cell_type": "code",
      "execution_count": 11,
      "metadata": {
        "id": "vW2oZKQOIQVC",
        "colab": {
          "base_uri": "https://localhost:8080/",
          "height": 589
        },
        "outputId": "0d03a3a6-f8cf-4551-e28b-9b8af78c378b"
      },
      "outputs": [
        {
          "output_type": "display_data",
          "data": {
            "image/png": "[encoded data removed]",
            "text/plain": [
              "<IPython.core.display.Image object>"
            ]
          },
          "metadata": {}
        }
      ],
      "source": [
        "prof_jetpt_npv.Draw(\"\")\n",
        "canvas2.Draw()"
      ]
    },
    {
      "cell_type": "markdown",
      "metadata": {
        "id": "nW9m3-3FIQVC"
      },
      "source": [
        "<b>Excercise: \n",
        "3. Make plots for reco and truth jet pT vs. pileup. Interpret your results. \n",
        "</b>"
      ]
    },
    {
      "cell_type": "markdown",
      "metadata": {
        "id": "K6N0LSzzIQVC"
      },
      "source": [
        "Plot the JVF (Jet Vertex Fraction) variable"
      ]
    },
    {
      "cell_type": "code",
      "execution_count": 12,
      "metadata": {
        "id": "dngF7B6TIQVC"
      },
      "outputs": [],
      "source": [
        "hist_leadreco_jvf = TH1F(\"Lead Reco-jet JVF\",\"Leading jet JVF; JVF;Events\",20,-1,1);\n",
        "hist_leadreco100_jvf = TH1F(\"Lead Reco-jet100 JVF\",\"Leading jet JVF; JVF;Events\",20,-1,1);"
      ]
    },
    {
      "cell_type": "code",
      "execution_count": 13,
      "metadata": {
        "id": "jHC62BsRIQVC",
        "colab": {
          "base_uri": "https://localhost:8080/"
        },
        "outputId": "9ba11b1f-6bba-4bba-dc52-aee010984aad"
      },
      "outputs": [
        {
          "output_type": "stream",
          "name": "stdout",
          "text": [
            "Done!\n"
          ]
        }
      ],
      "source": [
        "for event in tree:\n",
        "  evtw=tree.EventWeight\n",
        "  reco_R4_pt=tree.RecoJets_R4_pt\n",
        "  reco_R4_jvf=tree.RecoJets_R4_jvf\n",
        "  if(reco_R4_pt.size()!=0 and reco_R4_pt.at(0)>20e3):\n",
        "    hist_leadreco_jvf.Fill(reco_R4_jvf.at(0), evtw);\n",
        "    if(tree.RecoJets_R4_pt.at(0)>100e3):\n",
        "      hist_leadreco100_jvf.Fill(reco_R4_jvf.at(0), evtw);\n",
        "print(\"Done!\")"
      ]
    },
    {
      "cell_type": "code",
      "execution_count": 14,
      "metadata": {
        "id": "trozjuy_IQVD",
        "colab": {
          "base_uri": "https://localhost:8080/",
          "height": 589
        },
        "outputId": "058c673e-72d7-4caf-9521-3da4cc8cbdd2"
      },
      "outputs": [
        {
          "output_type": "display_data",
          "data": {
            "image/png": "[encoded data removed]",
            "text/plain": [
              "<IPython.core.display.Image object>"
            ]
          },
          "metadata": {}
        }
      ],
      "source": [
        "hist_leadreco_jvf.SetMarkerStyle(20);\n",
        "hist_leadreco_jvf.SetMarkerColor(kRed);\n",
        "hist_leadreco_jvf.DrawNormalized(\"\");\n",
        "hist_leadreco100_jvf.SetMarkerStyle(22);\n",
        "hist_leadreco100_jvf.SetMarkerColor(kBlue);\n",
        "hist_leadreco100_jvf.DrawNormalized(\"same\");\n",
        "canvas2.Draw();"
      ]
    },
    {
      "cell_type": "markdown",
      "metadata": {
        "id": "FXvXodiOIQVD"
      },
      "source": [
        "<b>Excercise: \n",
        "4. Use a |JVF|>0.5 cut to compare the leading jet pT for truth jets, reco jets (w.o. the cut), and reco jets (with the cut) \n",
        "5. Repeat the same plots and comparisons with \"Track-jets\" and verify that they are stable against pileup \n",
        "</b>"
      ]
    },
    {
      "cell_type": "markdown",
      "metadata": {
        "id": "hhoJ1TjFIQVD"
      },
      "source": [
        "Now we will study the jet response: the ratio between the pT of the jet to the truth jet. First we should \"match\" the jets and the truth jets. We will use the distance DeltaR between the two, but first we should define them as four-vectors:"
      ]
    },
    {
      "cell_type": "code",
      "execution_count": 15,
      "metadata": {
        "id": "8S5ROCERIQVD"
      },
      "outputs": [],
      "source": [
        "hist_DR_reco_truth = TH1F(\"Delta R reco\",\"Delta R; #Delta R; Events\",20,0,2);"
      ]
    },
    {
      "cell_type": "code",
      "execution_count": 16,
      "metadata": {
        "id": "jtUxktoIIQVD",
        "colab": {
          "base_uri": "https://localhost:8080/"
        },
        "outputId": "d9623143-21cf-4e47-ac1f-448031ed29a9"
      },
      "outputs": [
        {
          "output_type": "stream",
          "name": "stdout",
          "text": [
            "Done!\n"
          ]
        }
      ],
      "source": [
        "for event in tree:\n",
        "  evtw=tree.EventWeight\n",
        "  reco_R4_pt=tree.RecoJets_R4_pt\n",
        "  reco_R4_eta=tree.RecoJets_R4_eta\n",
        "  reco_R4_phi=tree.RecoJets_R4_phi\n",
        "  reco_R4_m=tree.RecoJets_R4_m\n",
        "  reco_R4_jvf=tree.RecoJets_R4_jvf\n",
        "\n",
        "  truth_R4_pt=tree.TruthJets_R4_pt\n",
        "  truth_R4_eta=tree.TruthJets_R4_eta\n",
        "  truth_R4_phi=tree.TruthJets_R4_phi\n",
        "  truth_R4_m=tree.TruthJets_R4_m  \n",
        "  if(truth_R4_pt.size()!=0 and truth_R4_pt.at(0)>20e3):\n",
        "    truthJet = TLorentzVector()\n",
        "    truthJet.SetPtEtaPhiM(\n",
        "        truth_R4_pt.at(0),\n",
        "        truth_R4_eta.at(0),\n",
        "        truth_R4_phi.at(0),\n",
        "        truth_R4_m.at(0)\n",
        "    )\n",
        "    if(reco_R4_pt.size()!=0 and abs(reco_R4_jvf.at(0))>0.50):\n",
        "      recoJet=TLorentzVector()\n",
        "      recoJet.SetPtEtaPhiM(\n",
        "        reco_R4_pt.at(0),\n",
        "        reco_R4_eta.at(0),\n",
        "        reco_R4_phi.at(0),\n",
        "        reco_R4_m.at(0)\n",
        "      )\n",
        "      #Plot the Delta R\n",
        "      hist_DR_reco_truth.Fill(truthJet.DeltaR(recoJet),evtw);\n",
        "print(\"Done!\")\n"
      ]
    },
    {
      "cell_type": "code",
      "execution_count": 17,
      "metadata": {
        "id": "paqr1LWpIQVD",
        "colab": {
          "base_uri": "https://localhost:8080/",
          "height": 589
        },
        "outputId": "eee0d21e-efd5-44b3-823c-b0c89a7e6bdb"
      },
      "outputs": [
        {
          "output_type": "display_data",
          "data": {
            "image/png": "[encoded data removed]",
            "text/plain": [
              "<IPython.core.display.Image object>"
            ]
          },
          "metadata": {}
        }
      ],
      "source": [
        "hist_DR_reco_truth.Scale(1./hist_DR_reco_truth.Integral());\n",
        "hist_DR_reco_truth.DrawNormalized(\"\");\n",
        "canvas2.Draw();"
      ]
    },
    {
      "cell_type": "markdown",
      "metadata": {
        "id": "G4Dw7Ly7IQVD"
      },
      "source": [
        "<b>Excercise: \n",
        "6. Repeat for track-jets and make a plot comparing three cases: reco-jets with and without the JVF cut, and track-jets \n",
        "</b>"
      ]
    },
    {
      "cell_type": "markdown",
      "metadata": {
        "id": "QYrCgGiuIQVE"
      },
      "source": [
        "<b>Excercises: \n",
        "7. Plot the response: For matched jets (use DeltaR<0.3), plot pTjet/pTtruth for 3 cases: truth_pT>20 GeV, 100 GeV, 500 GeV. Do this for track jets and reco jets (two plots).\n",
        "8. Investigate the Large-R jets: \n",
        "    (a) Plot the leading jet pT for reco_R10 and reco_R10_Trimmed jets\n",
        "    (b) Plot the leading jet pT for truth_R10 and truth_R10_Trimmed jets\n",
        "    (c) Compare all plots. How can you explain the differences?\n",
        "    (d) Make the same comparisson for the jet mass.  \n",
        "\n",
        "</b>"
      ]
    },
    {
      "cell_type": "code",
      "execution_count": 18,
      "metadata": {
        "id": "y5fcPLQ2IQVE",
        "colab": {
          "base_uri": "https://localhost:8080/"
        },
        "outputId": "37ca3958-0655-43c3-fd70-2e784b8bbc4e"
      },
      "outputs": [
        {
          "output_type": "stream",
          "name": "stdout",
          "text": [
            "/content\n"
          ]
        }
      ],
      "source": [
        "!pwd"
      ]
    },
    {
      "cell_type": "code",
      "execution_count": 18,
      "metadata": {
        "id": "-tbN6zDRV1s5"
      },
      "outputs": [],
      "source": [
        ""
      ]
    }
  ],
  "metadata": {
    "colab": {
      "collapsed_sections": [],
      "name": "02_Jets.ipynb",
      "provenance": [],
      "include_colab_link": true
    },
    "kernelspec": {
      "display_name": "Python 3 (ipykernel)",
      "language": "python",
      "name": "python3"
    },
    "language_info": {
      "codemirror_mode": {
        "name": "ipython",
        "version": 3
      },
      "file_extension": ".py",
      "mimetype": "text/x-python",
      "name": "python",
      "nbconvert_exporter": "python",
      "pygments_lexer": "ipython3",
      "version": "3.8.10"
    }
  },
  "nbformat": 4,
  "nbformat_minor": 0
}